{
 "cells": [
  {
   "cell_type": "markdown",
   "metadata": {},
   "source": [
    "# Sentiment Analysis"
   ]
  },
  {
   "cell_type": "code",
   "execution_count": 6,
   "metadata": {},
   "outputs": [],
   "source": [
    "import pandas as pd\n",
    "import warnings, sys, os\n",
    "from pathlib import Path\n",
    "\n",
    "path = Path(os.getcwd())\n",
    "sys.path.append(str(path.parent))\n",
    "warnings.filterwarnings('ignore')  \n",
    "%matplotlib inline\n",
    "data_directory = '../data'"
   ]
  },
  {
   "cell_type": "code",
   "execution_count": 14,
   "metadata": {},
   "outputs": [
    {
     "output_type": "error",
     "ename": "ValueError",
     "evalue": "Expected object or value",
     "traceback": [
      "\u001b[0;31m---------------------------------------------------------------------------\u001b[0m",
      "\u001b[0;31mValueError\u001b[0m                                Traceback (most recent call last)",
      "\u001b[0;32m<ipython-input-14-dc862b5a04d1>\u001b[0m in \u001b[0;36m<module>\u001b[0;34m\u001b[0m\n\u001b[0;32m----> 1\u001b[0;31m \u001b[0mres\u001b[0m \u001b[0;34m=\u001b[0m \u001b[0mpd\u001b[0m\u001b[0;34m.\u001b[0m\u001b[0mread_json\u001b[0m\u001b[0;34m(\u001b[0m\u001b[0;34mf'{data_directory}/precios.json'\u001b[0m\u001b[0;34m,\u001b[0m \u001b[0morient\u001b[0m\u001b[0;34m=\u001b[0m\u001b[0;34m'records'\u001b[0m\u001b[0;34m,\u001b[0m\u001b[0mlines\u001b[0m\u001b[0;34m=\u001b[0m\u001b[0;32mTrue\u001b[0m\u001b[0;34m)\u001b[0m\u001b[0;34m\u001b[0m\u001b[0;34m\u001b[0m\u001b[0m\n\u001b[0m\u001b[1;32m      2\u001b[0m \u001b[0mprint\u001b[0m \u001b[0;34m(\u001b[0m\u001b[0mres\u001b[0m\u001b[0;34m)\u001b[0m\u001b[0;34m\u001b[0m\u001b[0;34m\u001b[0m\u001b[0m\n",
      "\u001b[0;32m~/anaconda3/lib/python3.7/site-packages/pandas/util/_decorators.py\u001b[0m in \u001b[0;36mwrapper\u001b[0;34m(*args, **kwargs)\u001b[0m\n\u001b[1;32m    212\u001b[0m                 \u001b[0;32melse\u001b[0m\u001b[0;34m:\u001b[0m\u001b[0;34m\u001b[0m\u001b[0;34m\u001b[0m\u001b[0m\n\u001b[1;32m    213\u001b[0m                     \u001b[0mkwargs\u001b[0m\u001b[0;34m[\u001b[0m\u001b[0mnew_arg_name\u001b[0m\u001b[0;34m]\u001b[0m \u001b[0;34m=\u001b[0m \u001b[0mnew_arg_value\u001b[0m\u001b[0;34m\u001b[0m\u001b[0;34m\u001b[0m\u001b[0m\n\u001b[0;32m--> 214\u001b[0;31m             \u001b[0;32mreturn\u001b[0m \u001b[0mfunc\u001b[0m\u001b[0;34m(\u001b[0m\u001b[0;34m*\u001b[0m\u001b[0margs\u001b[0m\u001b[0;34m,\u001b[0m \u001b[0;34m**\u001b[0m\u001b[0mkwargs\u001b[0m\u001b[0;34m)\u001b[0m\u001b[0;34m\u001b[0m\u001b[0;34m\u001b[0m\u001b[0m\n\u001b[0m\u001b[1;32m    215\u001b[0m \u001b[0;34m\u001b[0m\u001b[0m\n\u001b[1;32m    216\u001b[0m         \u001b[0;32mreturn\u001b[0m \u001b[0mcast\u001b[0m\u001b[0;34m(\u001b[0m\u001b[0mF\u001b[0m\u001b[0;34m,\u001b[0m \u001b[0mwrapper\u001b[0m\u001b[0;34m)\u001b[0m\u001b[0;34m\u001b[0m\u001b[0;34m\u001b[0m\u001b[0m\n",
      "\u001b[0;32m~/anaconda3/lib/python3.7/site-packages/pandas/io/json/_json.py\u001b[0m in \u001b[0;36mread_json\u001b[0;34m(path_or_buf, orient, typ, dtype, convert_axes, convert_dates, keep_default_dates, numpy, precise_float, date_unit, encoding, lines, chunksize, compression)\u001b[0m\n\u001b[1;32m    606\u001b[0m         \u001b[0;32mreturn\u001b[0m \u001b[0mjson_reader\u001b[0m\u001b[0;34m\u001b[0m\u001b[0;34m\u001b[0m\u001b[0m\n\u001b[1;32m    607\u001b[0m \u001b[0;34m\u001b[0m\u001b[0m\n\u001b[0;32m--> 608\u001b[0;31m     \u001b[0mresult\u001b[0m \u001b[0;34m=\u001b[0m \u001b[0mjson_reader\u001b[0m\u001b[0;34m.\u001b[0m\u001b[0mread\u001b[0m\u001b[0;34m(\u001b[0m\u001b[0;34m)\u001b[0m\u001b[0;34m\u001b[0m\u001b[0;34m\u001b[0m\u001b[0m\n\u001b[0m\u001b[1;32m    609\u001b[0m     \u001b[0;32mif\u001b[0m \u001b[0mshould_close\u001b[0m\u001b[0;34m:\u001b[0m\u001b[0;34m\u001b[0m\u001b[0;34m\u001b[0m\u001b[0m\n\u001b[1;32m    610\u001b[0m         \u001b[0mfilepath_or_buffer\u001b[0m\u001b[0;34m.\u001b[0m\u001b[0mclose\u001b[0m\u001b[0;34m(\u001b[0m\u001b[0;34m)\u001b[0m\u001b[0;34m\u001b[0m\u001b[0;34m\u001b[0m\u001b[0m\n",
      "\u001b[0;32m~/anaconda3/lib/python3.7/site-packages/pandas/io/json/_json.py\u001b[0m in \u001b[0;36mread\u001b[0;34m(self)\u001b[0m\n\u001b[1;32m    727\u001b[0m         \u001b[0;32melif\u001b[0m \u001b[0mself\u001b[0m\u001b[0;34m.\u001b[0m\u001b[0mlines\u001b[0m\u001b[0;34m:\u001b[0m\u001b[0;34m\u001b[0m\u001b[0;34m\u001b[0m\u001b[0m\n\u001b[1;32m    728\u001b[0m             \u001b[0mdata\u001b[0m \u001b[0;34m=\u001b[0m \u001b[0mensure_str\u001b[0m\u001b[0;34m(\u001b[0m\u001b[0mself\u001b[0m\u001b[0;34m.\u001b[0m\u001b[0mdata\u001b[0m\u001b[0;34m)\u001b[0m\u001b[0;34m\u001b[0m\u001b[0;34m\u001b[0m\u001b[0m\n\u001b[0;32m--> 729\u001b[0;31m             \u001b[0mobj\u001b[0m \u001b[0;34m=\u001b[0m \u001b[0mself\u001b[0m\u001b[0;34m.\u001b[0m\u001b[0m_get_object_parser\u001b[0m\u001b[0;34m(\u001b[0m\u001b[0mself\u001b[0m\u001b[0;34m.\u001b[0m\u001b[0m_combine_lines\u001b[0m\u001b[0;34m(\u001b[0m\u001b[0mdata\u001b[0m\u001b[0;34m.\u001b[0m\u001b[0msplit\u001b[0m\u001b[0;34m(\u001b[0m\u001b[0;34m\"\\n\"\u001b[0m\u001b[0;34m)\u001b[0m\u001b[0;34m)\u001b[0m\u001b[0;34m)\u001b[0m\u001b[0;34m\u001b[0m\u001b[0;34m\u001b[0m\u001b[0m\n\u001b[0m\u001b[1;32m    730\u001b[0m         \u001b[0;32melse\u001b[0m\u001b[0;34m:\u001b[0m\u001b[0;34m\u001b[0m\u001b[0;34m\u001b[0m\u001b[0m\n\u001b[1;32m    731\u001b[0m             \u001b[0mobj\u001b[0m \u001b[0;34m=\u001b[0m \u001b[0mself\u001b[0m\u001b[0;34m.\u001b[0m\u001b[0m_get_object_parser\u001b[0m\u001b[0;34m(\u001b[0m\u001b[0mself\u001b[0m\u001b[0;34m.\u001b[0m\u001b[0mdata\u001b[0m\u001b[0;34m)\u001b[0m\u001b[0;34m\u001b[0m\u001b[0;34m\u001b[0m\u001b[0m\n",
      "\u001b[0;32m~/anaconda3/lib/python3.7/site-packages/pandas/io/json/_json.py\u001b[0m in \u001b[0;36m_get_object_parser\u001b[0;34m(self, json)\u001b[0m\n\u001b[1;32m    751\u001b[0m         \u001b[0mobj\u001b[0m \u001b[0;34m=\u001b[0m \u001b[0;32mNone\u001b[0m\u001b[0;34m\u001b[0m\u001b[0;34m\u001b[0m\u001b[0m\n\u001b[1;32m    752\u001b[0m         \u001b[0;32mif\u001b[0m \u001b[0mtyp\u001b[0m \u001b[0;34m==\u001b[0m \u001b[0;34m\"frame\"\u001b[0m\u001b[0;34m:\u001b[0m\u001b[0;34m\u001b[0m\u001b[0;34m\u001b[0m\u001b[0m\n\u001b[0;32m--> 753\u001b[0;31m             \u001b[0mobj\u001b[0m \u001b[0;34m=\u001b[0m \u001b[0mFrameParser\u001b[0m\u001b[0;34m(\u001b[0m\u001b[0mjson\u001b[0m\u001b[0;34m,\u001b[0m \u001b[0;34m**\u001b[0m\u001b[0mkwargs\u001b[0m\u001b[0;34m)\u001b[0m\u001b[0;34m.\u001b[0m\u001b[0mparse\u001b[0m\u001b[0;34m(\u001b[0m\u001b[0;34m)\u001b[0m\u001b[0;34m\u001b[0m\u001b[0;34m\u001b[0m\u001b[0m\n\u001b[0m\u001b[1;32m    754\u001b[0m \u001b[0;34m\u001b[0m\u001b[0m\n\u001b[1;32m    755\u001b[0m         \u001b[0;32mif\u001b[0m \u001b[0mtyp\u001b[0m \u001b[0;34m==\u001b[0m \u001b[0;34m\"series\"\u001b[0m \u001b[0;32mor\u001b[0m \u001b[0mobj\u001b[0m \u001b[0;32mis\u001b[0m \u001b[0;32mNone\u001b[0m\u001b[0;34m:\u001b[0m\u001b[0;34m\u001b[0m\u001b[0;34m\u001b[0m\u001b[0m\n",
      "\u001b[0;32m~/anaconda3/lib/python3.7/site-packages/pandas/io/json/_json.py\u001b[0m in \u001b[0;36mparse\u001b[0;34m(self)\u001b[0m\n\u001b[1;32m    855\u001b[0m \u001b[0;34m\u001b[0m\u001b[0m\n\u001b[1;32m    856\u001b[0m         \u001b[0;32melse\u001b[0m\u001b[0;34m:\u001b[0m\u001b[0;34m\u001b[0m\u001b[0;34m\u001b[0m\u001b[0m\n\u001b[0;32m--> 857\u001b[0;31m             \u001b[0mself\u001b[0m\u001b[0;34m.\u001b[0m\u001b[0m_parse_no_numpy\u001b[0m\u001b[0;34m(\u001b[0m\u001b[0;34m)\u001b[0m\u001b[0;34m\u001b[0m\u001b[0;34m\u001b[0m\u001b[0m\n\u001b[0m\u001b[1;32m    858\u001b[0m \u001b[0;34m\u001b[0m\u001b[0m\n\u001b[1;32m    859\u001b[0m         \u001b[0;32mif\u001b[0m \u001b[0mself\u001b[0m\u001b[0;34m.\u001b[0m\u001b[0mobj\u001b[0m \u001b[0;32mis\u001b[0m \u001b[0;32mNone\u001b[0m\u001b[0;34m:\u001b[0m\u001b[0;34m\u001b[0m\u001b[0;34m\u001b[0m\u001b[0m\n",
      "\u001b[0;32m~/anaconda3/lib/python3.7/site-packages/pandas/io/json/_json.py\u001b[0m in \u001b[0;36m_parse_no_numpy\u001b[0;34m(self)\u001b[0m\n\u001b[1;32m   1106\u001b[0m         \u001b[0;32melse\u001b[0m\u001b[0;34m:\u001b[0m\u001b[0;34m\u001b[0m\u001b[0;34m\u001b[0m\u001b[0m\n\u001b[1;32m   1107\u001b[0m             self.obj = DataFrame(\n\u001b[0;32m-> 1108\u001b[0;31m                 \u001b[0mloads\u001b[0m\u001b[0;34m(\u001b[0m\u001b[0mjson\u001b[0m\u001b[0;34m,\u001b[0m \u001b[0mprecise_float\u001b[0m\u001b[0;34m=\u001b[0m\u001b[0mself\u001b[0m\u001b[0;34m.\u001b[0m\u001b[0mprecise_float\u001b[0m\u001b[0;34m)\u001b[0m\u001b[0;34m,\u001b[0m \u001b[0mdtype\u001b[0m\u001b[0;34m=\u001b[0m\u001b[0;32mNone\u001b[0m\u001b[0;34m\u001b[0m\u001b[0;34m\u001b[0m\u001b[0m\n\u001b[0m\u001b[1;32m   1109\u001b[0m             )\n\u001b[1;32m   1110\u001b[0m \u001b[0;34m\u001b[0m\u001b[0m\n",
      "\u001b[0;31mValueError\u001b[0m: Expected object or value"
     ]
    }
   ],
   "source": [
    "res = pd.read_json(f'{data_directory}/precios.json', orient='records',lines=True)\n",
    "print(res)"
   ]
  },
  {
   "cell_type": "markdown",
   "metadata": {},
   "source": [
    "### Tenemos dos lexicon para trabajar los análisis:"
   ]
  },
  {
   "cell_type": "markdown",
   "metadata": {},
   "source": [
    "**Emotion Lexicon**: Tiene todas las palabras del lexicon. Si una palabra tiene aunque sea una minima relación con una emoción, el flag de la emoción va a estar en 1 para esa palabra. Si no tiene ninguna relación el flag va a ser 0"
   ]
  },
  {
   "cell_type": "code",
   "execution_count": 3,
   "metadata": {},
   "outputs": [
    {
     "output_type": "execute_result",
     "data": {
      "text/plain": "        English_a  Positive  Negative  Anger  Anticipation  Disgust  Fear  \\\n0          abacus         0         0      0             0        0     0   \n1         abandon         0         1      0             0        0     1   \n2       abandoned         0         1      1             0        0     1   \n3     abandonment         0         1      1             0        0     1   \n4            abba         1         0      0             0        0     0   \n...           ...       ...       ...    ...           ...      ...   ...   \n6480         zany         0         0      0             0        0     0   \n6481         zeal         1         0      0             1        0     0   \n6482      zealous         1         0      0             0        0     0   \n6483         zest         1         0      0             1        0     0   \n6484          zip         0         1      0             0        0     0   \n\n      Joy  Sadness  Surprise  Trust  \n0       0        0         0      1  \n1       0        1         0      0  \n2       0        1         0      0  \n3       0        1         1      0  \n4       0        0         0      0  \n...   ...      ...       ...    ...  \n6480    0        0         1      0  \n6481    1        0         1      1  \n6482    1        0         0      1  \n6483    1        0         0      1  \n6484    0        0         0      0  \n\n[6485 rows x 11 columns]",
      "text/html": "<div>\n<style scoped>\n    .dataframe tbody tr th:only-of-type {\n        vertical-align: middle;\n    }\n\n    .dataframe tbody tr th {\n        vertical-align: top;\n    }\n\n    .dataframe thead th {\n        text-align: right;\n    }\n</style>\n<table border=\"1\" class=\"dataframe\">\n  <thead>\n    <tr style=\"text-align: right;\">\n      <th></th>\n      <th>English_a</th>\n      <th>Positive</th>\n      <th>Negative</th>\n      <th>Anger</th>\n      <th>Anticipation</th>\n      <th>Disgust</th>\n      <th>Fear</th>\n      <th>Joy</th>\n      <th>Sadness</th>\n      <th>Surprise</th>\n      <th>Trust</th>\n    </tr>\n  </thead>\n  <tbody>\n    <tr>\n      <th>0</th>\n      <td>abacus</td>\n      <td>0</td>\n      <td>0</td>\n      <td>0</td>\n      <td>0</td>\n      <td>0</td>\n      <td>0</td>\n      <td>0</td>\n      <td>0</td>\n      <td>0</td>\n      <td>1</td>\n    </tr>\n    <tr>\n      <th>1</th>\n      <td>abandon</td>\n      <td>0</td>\n      <td>1</td>\n      <td>0</td>\n      <td>0</td>\n      <td>0</td>\n      <td>1</td>\n      <td>0</td>\n      <td>1</td>\n      <td>0</td>\n      <td>0</td>\n    </tr>\n    <tr>\n      <th>2</th>\n      <td>abandoned</td>\n      <td>0</td>\n      <td>1</td>\n      <td>1</td>\n      <td>0</td>\n      <td>0</td>\n      <td>1</td>\n      <td>0</td>\n      <td>1</td>\n      <td>0</td>\n      <td>0</td>\n    </tr>\n    <tr>\n      <th>3</th>\n      <td>abandonment</td>\n      <td>0</td>\n      <td>1</td>\n      <td>1</td>\n      <td>0</td>\n      <td>0</td>\n      <td>1</td>\n      <td>0</td>\n      <td>1</td>\n      <td>1</td>\n      <td>0</td>\n    </tr>\n    <tr>\n      <th>4</th>\n      <td>abba</td>\n      <td>1</td>\n      <td>0</td>\n      <td>0</td>\n      <td>0</td>\n      <td>0</td>\n      <td>0</td>\n      <td>0</td>\n      <td>0</td>\n      <td>0</td>\n      <td>0</td>\n    </tr>\n    <tr>\n      <th>...</th>\n      <td>...</td>\n      <td>...</td>\n      <td>...</td>\n      <td>...</td>\n      <td>...</td>\n      <td>...</td>\n      <td>...</td>\n      <td>...</td>\n      <td>...</td>\n      <td>...</td>\n      <td>...</td>\n    </tr>\n    <tr>\n      <th>6480</th>\n      <td>zany</td>\n      <td>0</td>\n      <td>0</td>\n      <td>0</td>\n      <td>0</td>\n      <td>0</td>\n      <td>0</td>\n      <td>0</td>\n      <td>0</td>\n      <td>1</td>\n      <td>0</td>\n    </tr>\n    <tr>\n      <th>6481</th>\n      <td>zeal</td>\n      <td>1</td>\n      <td>0</td>\n      <td>0</td>\n      <td>1</td>\n      <td>0</td>\n      <td>0</td>\n      <td>1</td>\n      <td>0</td>\n      <td>1</td>\n      <td>1</td>\n    </tr>\n    <tr>\n      <th>6482</th>\n      <td>zealous</td>\n      <td>1</td>\n      <td>0</td>\n      <td>0</td>\n      <td>0</td>\n      <td>0</td>\n      <td>0</td>\n      <td>1</td>\n      <td>0</td>\n      <td>0</td>\n      <td>1</td>\n    </tr>\n    <tr>\n      <th>6483</th>\n      <td>zest</td>\n      <td>1</td>\n      <td>0</td>\n      <td>0</td>\n      <td>1</td>\n      <td>0</td>\n      <td>0</td>\n      <td>1</td>\n      <td>0</td>\n      <td>0</td>\n      <td>1</td>\n    </tr>\n    <tr>\n      <th>6484</th>\n      <td>zip</td>\n      <td>0</td>\n      <td>1</td>\n      <td>0</td>\n      <td>0</td>\n      <td>0</td>\n      <td>0</td>\n      <td>0</td>\n      <td>0</td>\n      <td>0</td>\n      <td>0</td>\n    </tr>\n  </tbody>\n</table>\n<p>6485 rows × 11 columns</p>\n</div>"
     },
     "metadata": {},
     "execution_count": 3
    }
   ],
   "source": [
    "emotion_lexicon=pd.read_csv(f'{data_directory}/sa/Emotion_Lexicon.csv',delimiter=',')\n",
    "emotion_lexicon"
   ]
  },
  {
   "cell_type": "markdown",
   "metadata": {},
   "source": [
    "**Emotion Intensity**: Tiene todas las palabras con la particularidad de tener un variable que indica el grado de asociación de la palabra con la emoción (entre 0 y 1), entre mas alto, mas asociación."
   ]
  },
  {
   "cell_type": "code",
   "execution_count": 4,
   "metadata": {},
   "outputs": [
    {
     "output_type": "execute_result",
     "data": {
      "text/plain": "           word emotion  emotion-intensity-score\n0      outraged   anger                      964\n1     brutality   anger                      959\n2        hatred   anger                      953\n3       hateful   anger                      940\n4     terrorize   anger                      939\n...         ...     ...                      ...\n9916   fugitive   trust                      141\n9917    divorce   trust                      133\n9918   mistakes   trust                      133\n9919       bait   trust                      133\n9920  scoundrel   trust                      117\n\n[9921 rows x 3 columns]",
      "text/html": "<div>\n<style scoped>\n    .dataframe tbody tr th:only-of-type {\n        vertical-align: middle;\n    }\n\n    .dataframe tbody tr th {\n        vertical-align: top;\n    }\n\n    .dataframe thead th {\n        text-align: right;\n    }\n</style>\n<table border=\"1\" class=\"dataframe\">\n  <thead>\n    <tr style=\"text-align: right;\">\n      <th></th>\n      <th>word</th>\n      <th>emotion</th>\n      <th>emotion-intensity-score</th>\n    </tr>\n  </thead>\n  <tbody>\n    <tr>\n      <th>0</th>\n      <td>outraged</td>\n      <td>anger</td>\n      <td>964</td>\n    </tr>\n    <tr>\n      <th>1</th>\n      <td>brutality</td>\n      <td>anger</td>\n      <td>959</td>\n    </tr>\n    <tr>\n      <th>2</th>\n      <td>hatred</td>\n      <td>anger</td>\n      <td>953</td>\n    </tr>\n    <tr>\n      <th>3</th>\n      <td>hateful</td>\n      <td>anger</td>\n      <td>940</td>\n    </tr>\n    <tr>\n      <th>4</th>\n      <td>terrorize</td>\n      <td>anger</td>\n      <td>939</td>\n    </tr>\n    <tr>\n      <th>...</th>\n      <td>...</td>\n      <td>...</td>\n      <td>...</td>\n    </tr>\n    <tr>\n      <th>9916</th>\n      <td>fugitive</td>\n      <td>trust</td>\n      <td>141</td>\n    </tr>\n    <tr>\n      <th>9917</th>\n      <td>divorce</td>\n      <td>trust</td>\n      <td>133</td>\n    </tr>\n    <tr>\n      <th>9918</th>\n      <td>mistakes</td>\n      <td>trust</td>\n      <td>133</td>\n    </tr>\n    <tr>\n      <th>9919</th>\n      <td>bait</td>\n      <td>trust</td>\n      <td>133</td>\n    </tr>\n    <tr>\n      <th>9920</th>\n      <td>scoundrel</td>\n      <td>trust</td>\n      <td>117</td>\n    </tr>\n  </tbody>\n</table>\n<p>9921 rows × 3 columns</p>\n</div>"
     },
     "metadata": {},
     "execution_count": 4
    }
   ],
   "source": [
    "emotion_intensity=pd.read_csv(f'{data_directory}/sa/Emotion_Intensity.csv',delimiter=',')\n",
    "emotion_intensity"
   ]
  },
  {
   "cell_type": "markdown",
   "metadata": {},
   "source": [
    "Selecciono un grupo preliminar de sueños para comenzar el análisis (por tiempos de procesamiento). Podemos hacerlo para todos los grupos si es necesario."
   ]
  },
  {
   "cell_type": "code",
   "execution_count": 5,
   "metadata": {},
   "outputs": [],
   "source": [
    "emotion_list=[\"Positive\",\"Negative\",\"Anger\",\"Anticipation\",\"Disgust\",\"Fear\",\"Joy\",\"Sadness\",\"Surprise\",\"Trust\"]\n",
    "intensity_list=[\"anger\",\"anticipation\",\"disgust\",\"fear\",\"joy\",\"sadness\",\"surprise\",\"trust\"]"
   ]
  },
  {
   "cell_type": "code",
   "execution_count": 6,
   "metadata": {},
   "outputs": [
    {
     "output_type": "execute_result",
     "data": {
      "text/plain": "      code       note                                        description  \\\n0        1       1957  The one at the Meads's house, where it's bigge...   \n1        2    8/11/67  I'm at a family reunion in a large fine house ...   \n2        3     8/1/85  I watch a plane fly past and shortly realize i...   \n3        4      1985?  Me pulling the green leaves and berries off so...   \n4        5      1985?  I'm in a room that reminds me of (but definite...   \n...    ...        ...                                                ...   \n43221   85  F, age 18  The dream was about me and my boyfriend going ...   \n43222   86  F, age 18  Two weeks ago this guy asked me to Senior Ball...   \n43223   87  F, age 18  My boyfriend just broke up with me so he was o...   \n43224   88  F, age 18  I was in my backyard and I was flying. I would...   \n43225   89  F, age 18  I felt scared. I was pregnant in my dream. The...   \n\n       words  group_id  \n0      154.0         1  \n1      248.0         1  \n2      303.0         1  \n3      468.0         1  \n4      561.0         1  \n...      ...       ...  \n43221  138.0        89  \n43222   96.0        89  \n43223  139.0        89  \n43224  104.0        89  \n43225   92.0        89  \n\n[43226 rows x 5 columns]",
      "text/html": "<div>\n<style scoped>\n    .dataframe tbody tr th:only-of-type {\n        vertical-align: middle;\n    }\n\n    .dataframe tbody tr th {\n        vertical-align: top;\n    }\n\n    .dataframe thead th {\n        text-align: right;\n    }\n</style>\n<table border=\"1\" class=\"dataframe\">\n  <thead>\n    <tr style=\"text-align: right;\">\n      <th></th>\n      <th>code</th>\n      <th>note</th>\n      <th>description</th>\n      <th>words</th>\n      <th>group_id</th>\n    </tr>\n  </thead>\n  <tbody>\n    <tr>\n      <th>0</th>\n      <td>1</td>\n      <td>1957</td>\n      <td>The one at the Meads's house, where it's bigge...</td>\n      <td>154.0</td>\n      <td>1</td>\n    </tr>\n    <tr>\n      <th>1</th>\n      <td>2</td>\n      <td>8/11/67</td>\n      <td>I'm at a family reunion in a large fine house ...</td>\n      <td>248.0</td>\n      <td>1</td>\n    </tr>\n    <tr>\n      <th>2</th>\n      <td>3</td>\n      <td>8/1/85</td>\n      <td>I watch a plane fly past and shortly realize i...</td>\n      <td>303.0</td>\n      <td>1</td>\n    </tr>\n    <tr>\n      <th>3</th>\n      <td>4</td>\n      <td>1985?</td>\n      <td>Me pulling the green leaves and berries off so...</td>\n      <td>468.0</td>\n      <td>1</td>\n    </tr>\n    <tr>\n      <th>4</th>\n      <td>5</td>\n      <td>1985?</td>\n      <td>I'm in a room that reminds me of (but definite...</td>\n      <td>561.0</td>\n      <td>1</td>\n    </tr>\n    <tr>\n      <th>...</th>\n      <td>...</td>\n      <td>...</td>\n      <td>...</td>\n      <td>...</td>\n      <td>...</td>\n    </tr>\n    <tr>\n      <th>43221</th>\n      <td>85</td>\n      <td>F, age 18</td>\n      <td>The dream was about me and my boyfriend going ...</td>\n      <td>138.0</td>\n      <td>89</td>\n    </tr>\n    <tr>\n      <th>43222</th>\n      <td>86</td>\n      <td>F, age 18</td>\n      <td>Two weeks ago this guy asked me to Senior Ball...</td>\n      <td>96.0</td>\n      <td>89</td>\n    </tr>\n    <tr>\n      <th>43223</th>\n      <td>87</td>\n      <td>F, age 18</td>\n      <td>My boyfriend just broke up with me so he was o...</td>\n      <td>139.0</td>\n      <td>89</td>\n    </tr>\n    <tr>\n      <th>43224</th>\n      <td>88</td>\n      <td>F, age 18</td>\n      <td>I was in my backyard and I was flying. I would...</td>\n      <td>104.0</td>\n      <td>89</td>\n    </tr>\n    <tr>\n      <th>43225</th>\n      <td>89</td>\n      <td>F, age 18</td>\n      <td>I felt scared. I was pregnant in my dream. The...</td>\n      <td>92.0</td>\n      <td>89</td>\n    </tr>\n  </tbody>\n</table>\n<p>43226 rows × 5 columns</p>\n</div>"
     },
     "metadata": {},
     "execution_count": 6
    }
   ],
   "source": [
    "#Todos los sueños\n",
    "dreams_groups=dreams_clean.copy()\n",
    "dreams_groups"
   ]
  },
  {
   "cell_type": "markdown",
   "metadata": {},
   "source": [
    "### Pre-Procesamiento sueños"
   ]
  },
  {
   "cell_type": "markdown",
   "metadata": {},
   "source": [
    "Elimino sueños vacios"
   ]
  },
  {
   "cell_type": "code",
   "execution_count": 7,
   "metadata": {},
   "outputs": [
    {
     "output_type": "execute_result",
     "data": {
      "text/plain": "43226"
     },
     "metadata": {},
     "execution_count": 7
    }
   ],
   "source": [
    "len(dreams_groups)"
   ]
  },
  {
   "cell_type": "code",
   "execution_count": 8,
   "metadata": {},
   "outputs": [
    {
     "output_type": "execute_result",
     "data": {
      "text/plain": "43132"
     },
     "metadata": {},
     "execution_count": 8
    }
   ],
   "source": [
    "dreams_groups=dreams_groups[dreams_groups.code.notnull()]\n",
    "len(dreams_groups)\n"
   ]
  },
  {
   "cell_type": "markdown",
   "metadata": {},
   "source": [
    "Paso todas las palabras de los sueños a minusculas"
   ]
  },
  {
   "cell_type": "code",
   "execution_count": 10,
   "metadata": {},
   "outputs": [],
   "source": [
    "dreams_groups['description']=dreams_groups['description'].str.lower()"
   ]
  },
  {
   "cell_type": "markdown",
   "metadata": {},
   "source": [
    "Elimino caracteres especiales"
   ]
  },
  {
   "cell_type": "code",
   "execution_count": 11,
   "metadata": {
    "scrolled": true
   },
   "outputs": [],
   "source": [
    "remove = [\"!\",\"(\",\")\",\"@\",\".\",\",\",\"{\",\"}\",\"[\",\"]\",\".\",'\"',\"'\",\"?\",\"-\",\"1\",\"2\",\"3\",\"4\",\"5\",\"6\",\"7\",\"8\",\"9\",\"0\"]\n",
    "\n",
    "for ch in remove:\n",
    "  dreams_groups['description'] = dreams_groups['description'].str.replace(ch, \"\")"
   ]
  },
  {
   "cell_type": "code",
   "execution_count": 12,
   "metadata": {},
   "outputs": [
    {
     "output_type": "execute_result",
     "data": {
      "text/plain": "      code       note                                        description  \\\n0        1       1957  the one at the meadss house where its bigger i...   \n1        2    8/11/67  im at a family reunion in a large fine house w...   \n2        3     8/1/85  i watch a plane fly past and shortly realize i...   \n3        4      1985?  me pulling the green leaves and berries off so...   \n4        5      1985?  im in a room that reminds me of but definitely...   \n...    ...        ...                                                ...   \n43221   85  F, age 18  the dream was about me and my boyfriend going ...   \n43222   86  F, age 18  two weeks ago this guy asked me to senior ball...   \n43223   87  F, age 18  my boyfriend just broke up with me so he was o...   \n43224   88  F, age 18  i was in my backyard and i was flying i would ...   \n43225   89  F, age 18  i felt scared i was pregnant in my dream then ...   \n\n       words  group_id  \n0      154.0         1  \n1      248.0         1  \n2      303.0         1  \n3      468.0         1  \n4      561.0         1  \n...      ...       ...  \n43221  138.0        89  \n43222   96.0        89  \n43223  139.0        89  \n43224  104.0        89  \n43225   92.0        89  \n\n[43132 rows x 5 columns]",
      "text/html": "<div>\n<style scoped>\n    .dataframe tbody tr th:only-of-type {\n        vertical-align: middle;\n    }\n\n    .dataframe tbody tr th {\n        vertical-align: top;\n    }\n\n    .dataframe thead th {\n        text-align: right;\n    }\n</style>\n<table border=\"1\" class=\"dataframe\">\n  <thead>\n    <tr style=\"text-align: right;\">\n      <th></th>\n      <th>code</th>\n      <th>note</th>\n      <th>description</th>\n      <th>words</th>\n      <th>group_id</th>\n    </tr>\n  </thead>\n  <tbody>\n    <tr>\n      <th>0</th>\n      <td>1</td>\n      <td>1957</td>\n      <td>the one at the meadss house where its bigger i...</td>\n      <td>154.0</td>\n      <td>1</td>\n    </tr>\n    <tr>\n      <th>1</th>\n      <td>2</td>\n      <td>8/11/67</td>\n      <td>im at a family reunion in a large fine house w...</td>\n      <td>248.0</td>\n      <td>1</td>\n    </tr>\n    <tr>\n      <th>2</th>\n      <td>3</td>\n      <td>8/1/85</td>\n      <td>i watch a plane fly past and shortly realize i...</td>\n      <td>303.0</td>\n      <td>1</td>\n    </tr>\n    <tr>\n      <th>3</th>\n      <td>4</td>\n      <td>1985?</td>\n      <td>me pulling the green leaves and berries off so...</td>\n      <td>468.0</td>\n      <td>1</td>\n    </tr>\n    <tr>\n      <th>4</th>\n      <td>5</td>\n      <td>1985?</td>\n      <td>im in a room that reminds me of but definitely...</td>\n      <td>561.0</td>\n      <td>1</td>\n    </tr>\n    <tr>\n      <th>...</th>\n      <td>...</td>\n      <td>...</td>\n      <td>...</td>\n      <td>...</td>\n      <td>...</td>\n    </tr>\n    <tr>\n      <th>43221</th>\n      <td>85</td>\n      <td>F, age 18</td>\n      <td>the dream was about me and my boyfriend going ...</td>\n      <td>138.0</td>\n      <td>89</td>\n    </tr>\n    <tr>\n      <th>43222</th>\n      <td>86</td>\n      <td>F, age 18</td>\n      <td>two weeks ago this guy asked me to senior ball...</td>\n      <td>96.0</td>\n      <td>89</td>\n    </tr>\n    <tr>\n      <th>43223</th>\n      <td>87</td>\n      <td>F, age 18</td>\n      <td>my boyfriend just broke up with me so he was o...</td>\n      <td>139.0</td>\n      <td>89</td>\n    </tr>\n    <tr>\n      <th>43224</th>\n      <td>88</td>\n      <td>F, age 18</td>\n      <td>i was in my backyard and i was flying i would ...</td>\n      <td>104.0</td>\n      <td>89</td>\n    </tr>\n    <tr>\n      <th>43225</th>\n      <td>89</td>\n      <td>F, age 18</td>\n      <td>i felt scared i was pregnant in my dream then ...</td>\n      <td>92.0</td>\n      <td>89</td>\n    </tr>\n  </tbody>\n</table>\n<p>43132 rows × 5 columns</p>\n</div>"
     },
     "metadata": {},
     "execution_count": 12
    }
   ],
   "source": [
    "dreams_groups"
   ]
  },
  {
   "cell_type": "markdown",
   "metadata": {},
   "source": [
    "Divido los sueños en palabras (preparo un dataset para el análisis con Emotion_Lexicon y copio uno igual para Emotion_Intensity)"
   ]
  },
  {
   "cell_type": "code",
   "execution_count": 13,
   "metadata": {},
   "outputs": [
    {
     "output_type": "execute_result",
     "data": {
      "text/plain": "         index description\n0            0         the\n1            0         one\n2            0          at\n3            0         the\n4            0      meadss\n...        ...         ...\n7003553  43225     parents\n7003554  43225       would\n7003555  43225        kill\n7003556  43225          us\n7003557  43225     instead\n\n[7003558 rows x 2 columns]",
      "text/html": "<div>\n<style scoped>\n    .dataframe tbody tr th:only-of-type {\n        vertical-align: middle;\n    }\n\n    .dataframe tbody tr th {\n        vertical-align: top;\n    }\n\n    .dataframe thead th {\n        text-align: right;\n    }\n</style>\n<table border=\"1\" class=\"dataframe\">\n  <thead>\n    <tr style=\"text-align: right;\">\n      <th></th>\n      <th>index</th>\n      <th>description</th>\n    </tr>\n  </thead>\n  <tbody>\n    <tr>\n      <th>0</th>\n      <td>0</td>\n      <td>the</td>\n    </tr>\n    <tr>\n      <th>1</th>\n      <td>0</td>\n      <td>one</td>\n    </tr>\n    <tr>\n      <th>2</th>\n      <td>0</td>\n      <td>at</td>\n    </tr>\n    <tr>\n      <th>3</th>\n      <td>0</td>\n      <td>the</td>\n    </tr>\n    <tr>\n      <th>4</th>\n      <td>0</td>\n      <td>meadss</td>\n    </tr>\n    <tr>\n      <th>...</th>\n      <td>...</td>\n      <td>...</td>\n    </tr>\n    <tr>\n      <th>7003553</th>\n      <td>43225</td>\n      <td>parents</td>\n    </tr>\n    <tr>\n      <th>7003554</th>\n      <td>43225</td>\n      <td>would</td>\n    </tr>\n    <tr>\n      <th>7003555</th>\n      <td>43225</td>\n      <td>kill</td>\n    </tr>\n    <tr>\n      <th>7003556</th>\n      <td>43225</td>\n      <td>us</td>\n    </tr>\n    <tr>\n      <th>7003557</th>\n      <td>43225</td>\n      <td>instead</td>\n    </tr>\n  </tbody>\n</table>\n<p>7003558 rows × 2 columns</p>\n</div>"
     },
     "metadata": {},
     "execution_count": 13
    }
   ],
   "source": [
    "df_words_emotions = dreams_groups.description.str.split(expand=True).stack().reset_index(level=1,drop=True).reset_index(name='description')\n",
    "\n",
    "df_words_intensity=df_words_emotions.copy()\n",
    "\n",
    "df_words_emotions"
   ]
  },
  {
   "cell_type": "markdown",
   "metadata": {},
   "source": [
    "### Sentiment Analysis con Emotion_Lexicon"
   ]
  },
  {
   "cell_type": "markdown",
   "metadata": {},
   "source": [
    "**Pre-Procesamiento**:\n",
    "    Creo un diccionario que va a tener cómo indice las emociones y cada una con su lista de palaras asociadas"
   ]
  },
  {
   "cell_type": "code",
   "execution_count": 14,
   "metadata": {},
   "outputs": [],
   "source": [
    "for i in emotion_list:\n",
    "    exec(\"{} = pd.DataFrame(emotion_lexicon[emotion_lexicon[i] == 1].English_a)\".format(i))\n",
    "    \n",
    "emotions = {\n",
    "    'Positive': list(Positive[\"English_a\"]),\n",
    "    \"Negative\": list(Negative[\"English_a\"]),\n",
    "    \"Anger\": list(Anger[\"English_a\"]),\n",
    "    \"Anticipation\": list(Anticipation[\"English_a\"]),\n",
    "    \"Disgust\": list(Disgust[\"English_a\"]),\n",
    "    \"Fear\": list(Fear[\"English_a\"]),\n",
    "    \"Joy\": list(Joy[\"English_a\"]),\n",
    "    \"Sadness\": list(Sadness[\"English_a\"]),\n",
    "    \"Surprise\": list(Surprise[\"English_a\"]),\n",
    "    \"Trust\": list(Trust[\"English_a\"])\n",
    "}\n",
    "\n",
    "#emotions"
   ]
  },
  {
   "cell_type": "markdown",
   "metadata": {},
   "source": [
    "**Sentiment Analysis**: Matcheo el diccionario de las palaras y emociones con las palabras de los sueños. Despues agrupo y sumo la cantidad de matchs por sueños"
   ]
  },
  {
   "cell_type": "code",
   "execution_count": 15,
   "metadata": {
    "scrolled": true
   },
   "outputs": [
    {
     "output_type": "execute_result",
     "data": {
      "text/plain": "       Positive  Negative  Anger  Anticipation  Disgust  Fear  Joy  Sadness  \\\nindex                                                                         \n0            18        11      8             6        8     6    3        6   \n1            28        22     12            10       11    14    5       13   \n2            27        25     12            16       11    16    4       15   \n3            51        41     22            18       20    19   19       29   \n4            59        40     19            26       17    18   16       14   \n...         ...       ...    ...           ...      ...   ...  ...      ...   \n43221         9        13      6            13        8     6    6        6   \n43222        11         3      3             2        0     1    4        2   \n43223        17        10      4             5        5     3    6        5   \n43224        14         6      5             9        3     4    9        6   \n43225        13         9      5             9        5     5    8       10   \n\n       Surprise  Trust  \nindex                   \n0             3      7  \n1             1     15  \n2             8     19  \n3            12     25  \n4            10     30  \n...         ...    ...  \n43221         5      6  \n43222         4      7  \n43223         4     12  \n43224         7     11  \n43225         4      7  \n\n[43132 rows x 10 columns]",
      "text/html": "<div>\n<style scoped>\n    .dataframe tbody tr th:only-of-type {\n        vertical-align: middle;\n    }\n\n    .dataframe tbody tr th {\n        vertical-align: top;\n    }\n\n    .dataframe thead th {\n        text-align: right;\n    }\n</style>\n<table border=\"1\" class=\"dataframe\">\n  <thead>\n    <tr style=\"text-align: right;\">\n      <th></th>\n      <th>Positive</th>\n      <th>Negative</th>\n      <th>Anger</th>\n      <th>Anticipation</th>\n      <th>Disgust</th>\n      <th>Fear</th>\n      <th>Joy</th>\n      <th>Sadness</th>\n      <th>Surprise</th>\n      <th>Trust</th>\n    </tr>\n    <tr>\n      <th>index</th>\n      <th></th>\n      <th></th>\n      <th></th>\n      <th></th>\n      <th></th>\n      <th></th>\n      <th></th>\n      <th></th>\n      <th></th>\n      <th></th>\n    </tr>\n  </thead>\n  <tbody>\n    <tr>\n      <th>0</th>\n      <td>18</td>\n      <td>11</td>\n      <td>8</td>\n      <td>6</td>\n      <td>8</td>\n      <td>6</td>\n      <td>3</td>\n      <td>6</td>\n      <td>3</td>\n      <td>7</td>\n    </tr>\n    <tr>\n      <th>1</th>\n      <td>28</td>\n      <td>22</td>\n      <td>12</td>\n      <td>10</td>\n      <td>11</td>\n      <td>14</td>\n      <td>5</td>\n      <td>13</td>\n      <td>1</td>\n      <td>15</td>\n    </tr>\n    <tr>\n      <th>2</th>\n      <td>27</td>\n      <td>25</td>\n      <td>12</td>\n      <td>16</td>\n      <td>11</td>\n      <td>16</td>\n      <td>4</td>\n      <td>15</td>\n      <td>8</td>\n      <td>19</td>\n    </tr>\n    <tr>\n      <th>3</th>\n      <td>51</td>\n      <td>41</td>\n      <td>22</td>\n      <td>18</td>\n      <td>20</td>\n      <td>19</td>\n      <td>19</td>\n      <td>29</td>\n      <td>12</td>\n      <td>25</td>\n    </tr>\n    <tr>\n      <th>4</th>\n      <td>59</td>\n      <td>40</td>\n      <td>19</td>\n      <td>26</td>\n      <td>17</td>\n      <td>18</td>\n      <td>16</td>\n      <td>14</td>\n      <td>10</td>\n      <td>30</td>\n    </tr>\n    <tr>\n      <th>...</th>\n      <td>...</td>\n      <td>...</td>\n      <td>...</td>\n      <td>...</td>\n      <td>...</td>\n      <td>...</td>\n      <td>...</td>\n      <td>...</td>\n      <td>...</td>\n      <td>...</td>\n    </tr>\n    <tr>\n      <th>43221</th>\n      <td>9</td>\n      <td>13</td>\n      <td>6</td>\n      <td>13</td>\n      <td>8</td>\n      <td>6</td>\n      <td>6</td>\n      <td>6</td>\n      <td>5</td>\n      <td>6</td>\n    </tr>\n    <tr>\n      <th>43222</th>\n      <td>11</td>\n      <td>3</td>\n      <td>3</td>\n      <td>2</td>\n      <td>0</td>\n      <td>1</td>\n      <td>4</td>\n      <td>2</td>\n      <td>4</td>\n      <td>7</td>\n    </tr>\n    <tr>\n      <th>43223</th>\n      <td>17</td>\n      <td>10</td>\n      <td>4</td>\n      <td>5</td>\n      <td>5</td>\n      <td>3</td>\n      <td>6</td>\n      <td>5</td>\n      <td>4</td>\n      <td>12</td>\n    </tr>\n    <tr>\n      <th>43224</th>\n      <td>14</td>\n      <td>6</td>\n      <td>5</td>\n      <td>9</td>\n      <td>3</td>\n      <td>4</td>\n      <td>9</td>\n      <td>6</td>\n      <td>7</td>\n      <td>11</td>\n    </tr>\n    <tr>\n      <th>43225</th>\n      <td>13</td>\n      <td>9</td>\n      <td>5</td>\n      <td>9</td>\n      <td>5</td>\n      <td>5</td>\n      <td>8</td>\n      <td>10</td>\n      <td>4</td>\n      <td>7</td>\n    </tr>\n  </tbody>\n</table>\n<p>43132 rows × 10 columns</p>\n</div>"
     },
     "metadata": {},
     "execution_count": 15
    }
   ],
   "source": [
    "for k, v in emotions.items():\n",
    "    df_words_emotions[k] = df_words_emotions.description.str.contains('|'.join(emotions[k]))\n",
    "\n",
    "df_words_emo_groups=df_words_emotions.groupby('index').sum().astype(int)\n",
    "df_words_emo_groups"
   ]
  },
  {
   "cell_type": "markdown",
   "metadata": {},
   "source": [
    "**Sentiment Analysis**:  Hago un join entre las palabras que hicieron match con las emociones y la base de los sueños. Creo la base final:"
   ]
  },
  {
   "cell_type": "code",
   "execution_count": 16,
   "metadata": {},
   "outputs": [
    {
     "output_type": "execute_result",
     "data": {
      "text/plain": "      code       note                                        description  \\\n0        1       1957  the one at the meadss house where its bigger i...   \n1        2    8/11/67  im at a family reunion in a large fine house w...   \n2        3     8/1/85  i watch a plane fly past and shortly realize i...   \n3        4      1985?  me pulling the green leaves and berries off so...   \n4        5      1985?  im in a room that reminds me of but definitely...   \n...    ...        ...                                                ...   \n43221   85  F, age 18  the dream was about me and my boyfriend going ...   \n43222   86  F, age 18  two weeks ago this guy asked me to senior ball...   \n43223   87  F, age 18  my boyfriend just broke up with me so he was o...   \n43224   88  F, age 18  i was in my backyard and i was flying i would ...   \n43225   89  F, age 18  i felt scared i was pregnant in my dream then ...   \n\n       words  group_id  Positive  Negative  Anger  Anticipation  Disgust  \\\n0      154.0         1        18        11      8             6        8   \n1      248.0         1        28        22     12            10       11   \n2      303.0         1        27        25     12            16       11   \n3      468.0         1        51        41     22            18       20   \n4      561.0         1        59        40     19            26       17   \n...      ...       ...       ...       ...    ...           ...      ...   \n43221  138.0        89         9        13      6            13        8   \n43222   96.0        89        11         3      3             2        0   \n43223  139.0        89        17        10      4             5        5   \n43224  104.0        89        14         6      5             9        3   \n43225   92.0        89        13         9      5             9        5   \n\n       Fear  Joy  Sadness  Surprise  Trust  \n0         6    3        6         3      7  \n1        14    5       13         1     15  \n2        16    4       15         8     19  \n3        19   19       29        12     25  \n4        18   16       14        10     30  \n...     ...  ...      ...       ...    ...  \n43221     6    6        6         5      6  \n43222     1    4        2         4      7  \n43223     3    6        5         4     12  \n43224     4    9        6         7     11  \n43225     5    8       10         4      7  \n\n[43132 rows x 15 columns]",
      "text/html": "<div>\n<style scoped>\n    .dataframe tbody tr th:only-of-type {\n        vertical-align: middle;\n    }\n\n    .dataframe tbody tr th {\n        vertical-align: top;\n    }\n\n    .dataframe thead th {\n        text-align: right;\n    }\n</style>\n<table border=\"1\" class=\"dataframe\">\n  <thead>\n    <tr style=\"text-align: right;\">\n      <th></th>\n      <th>code</th>\n      <th>note</th>\n      <th>description</th>\n      <th>words</th>\n      <th>group_id</th>\n      <th>Positive</th>\n      <th>Negative</th>\n      <th>Anger</th>\n      <th>Anticipation</th>\n      <th>Disgust</th>\n      <th>Fear</th>\n      <th>Joy</th>\n      <th>Sadness</th>\n      <th>Surprise</th>\n      <th>Trust</th>\n    </tr>\n  </thead>\n  <tbody>\n    <tr>\n      <th>0</th>\n      <td>1</td>\n      <td>1957</td>\n      <td>the one at the meadss house where its bigger i...</td>\n      <td>154.0</td>\n      <td>1</td>\n      <td>18</td>\n      <td>11</td>\n      <td>8</td>\n      <td>6</td>\n      <td>8</td>\n      <td>6</td>\n      <td>3</td>\n      <td>6</td>\n      <td>3</td>\n      <td>7</td>\n    </tr>\n    <tr>\n      <th>1</th>\n      <td>2</td>\n      <td>8/11/67</td>\n      <td>im at a family reunion in a large fine house w...</td>\n      <td>248.0</td>\n      <td>1</td>\n      <td>28</td>\n      <td>22</td>\n      <td>12</td>\n      <td>10</td>\n      <td>11</td>\n      <td>14</td>\n      <td>5</td>\n      <td>13</td>\n      <td>1</td>\n      <td>15</td>\n    </tr>\n    <tr>\n      <th>2</th>\n      <td>3</td>\n      <td>8/1/85</td>\n      <td>i watch a plane fly past and shortly realize i...</td>\n      <td>303.0</td>\n      <td>1</td>\n      <td>27</td>\n      <td>25</td>\n      <td>12</td>\n      <td>16</td>\n      <td>11</td>\n      <td>16</td>\n      <td>4</td>\n      <td>15</td>\n      <td>8</td>\n      <td>19</td>\n    </tr>\n    <tr>\n      <th>3</th>\n      <td>4</td>\n      <td>1985?</td>\n      <td>me pulling the green leaves and berries off so...</td>\n      <td>468.0</td>\n      <td>1</td>\n      <td>51</td>\n      <td>41</td>\n      <td>22</td>\n      <td>18</td>\n      <td>20</td>\n      <td>19</td>\n      <td>19</td>\n      <td>29</td>\n      <td>12</td>\n      <td>25</td>\n    </tr>\n    <tr>\n      <th>4</th>\n      <td>5</td>\n      <td>1985?</td>\n      <td>im in a room that reminds me of but definitely...</td>\n      <td>561.0</td>\n      <td>1</td>\n      <td>59</td>\n      <td>40</td>\n      <td>19</td>\n      <td>26</td>\n      <td>17</td>\n      <td>18</td>\n      <td>16</td>\n      <td>14</td>\n      <td>10</td>\n      <td>30</td>\n    </tr>\n    <tr>\n      <th>...</th>\n      <td>...</td>\n      <td>...</td>\n      <td>...</td>\n      <td>...</td>\n      <td>...</td>\n      <td>...</td>\n      <td>...</td>\n      <td>...</td>\n      <td>...</td>\n      <td>...</td>\n      <td>...</td>\n      <td>...</td>\n      <td>...</td>\n      <td>...</td>\n      <td>...</td>\n    </tr>\n    <tr>\n      <th>43221</th>\n      <td>85</td>\n      <td>F, age 18</td>\n      <td>the dream was about me and my boyfriend going ...</td>\n      <td>138.0</td>\n      <td>89</td>\n      <td>9</td>\n      <td>13</td>\n      <td>6</td>\n      <td>13</td>\n      <td>8</td>\n      <td>6</td>\n      <td>6</td>\n      <td>6</td>\n      <td>5</td>\n      <td>6</td>\n    </tr>\n    <tr>\n      <th>43222</th>\n      <td>86</td>\n      <td>F, age 18</td>\n      <td>two weeks ago this guy asked me to senior ball...</td>\n      <td>96.0</td>\n      <td>89</td>\n      <td>11</td>\n      <td>3</td>\n      <td>3</td>\n      <td>2</td>\n      <td>0</td>\n      <td>1</td>\n      <td>4</td>\n      <td>2</td>\n      <td>4</td>\n      <td>7</td>\n    </tr>\n    <tr>\n      <th>43223</th>\n      <td>87</td>\n      <td>F, age 18</td>\n      <td>my boyfriend just broke up with me so he was o...</td>\n      <td>139.0</td>\n      <td>89</td>\n      <td>17</td>\n      <td>10</td>\n      <td>4</td>\n      <td>5</td>\n      <td>5</td>\n      <td>3</td>\n      <td>6</td>\n      <td>5</td>\n      <td>4</td>\n      <td>12</td>\n    </tr>\n    <tr>\n      <th>43224</th>\n      <td>88</td>\n      <td>F, age 18</td>\n      <td>i was in my backyard and i was flying i would ...</td>\n      <td>104.0</td>\n      <td>89</td>\n      <td>14</td>\n      <td>6</td>\n      <td>5</td>\n      <td>9</td>\n      <td>3</td>\n      <td>4</td>\n      <td>9</td>\n      <td>6</td>\n      <td>7</td>\n      <td>11</td>\n    </tr>\n    <tr>\n      <th>43225</th>\n      <td>89</td>\n      <td>F, age 18</td>\n      <td>i felt scared i was pregnant in my dream then ...</td>\n      <td>92.0</td>\n      <td>89</td>\n      <td>13</td>\n      <td>9</td>\n      <td>5</td>\n      <td>9</td>\n      <td>5</td>\n      <td>5</td>\n      <td>8</td>\n      <td>10</td>\n      <td>4</td>\n      <td>7</td>\n    </tr>\n  </tbody>\n</table>\n<p>43132 rows × 15 columns</p>\n</div>"
     },
     "metadata": {},
     "execution_count": 16
    }
   ],
   "source": [
    "dreams_groups_emotions = dreams_groups.merge(df_words_emo_groups, how='inner', \n",
    "                                      left_index=True,\n",
    "                                      right_index=True)\n",
    "dreams_groups_emotions"
   ]
  },
  {
   "cell_type": "code",
   "execution_count": null,
   "metadata": {},
   "outputs": [],
   "source": [
    "#dreams_groups_emotions.to_csv(f'{data_directory}/sa/out/emotions.csv', index = False)"
   ]
  },
  {
   "cell_type": "markdown",
   "metadata": {},
   "source": [
    "### Sentiment Analysis con Emotion_Intensity"
   ]
  },
  {
   "cell_type": "markdown",
   "metadata": {},
   "source": [
    "**Pre-Procesamiento**: Me quedo solo con las palabras que tienen > 0.6 de asociación con la emoción y transpongo la tabla"
   ]
  },
  {
   "cell_type": "code",
   "execution_count": 19,
   "metadata": {
    "scrolled": false
   },
   "outputs": [
    {
     "output_type": "execute_result",
     "data": {
      "text/plain": "emotion       word  anger  anticipation  disgust  fear  joy  sadness  \\\n0         aaaaaaah    NaN           NaN      NaN   1.0  NaN      NaN   \n1            aaaah    NaN           NaN      NaN   1.0  NaN      NaN   \n2           abacus    NaN           NaN      NaN   NaN  NaN      NaN   \n3          abandon    NaN           NaN      NaN   1.0  NaN      1.0   \n4        abandoned    1.0           NaN      NaN   1.0  NaN      1.0   \n...            ...    ...           ...      ...   ...  ...      ...   \n5970          zany    NaN           NaN      NaN   NaN  NaN      NaN   \n5971          zeal    NaN           1.0      NaN   NaN  1.0      NaN   \n5972       zealous    NaN           NaN      NaN   NaN  1.0      NaN   \n5973           zen    NaN           NaN      NaN   NaN  1.0      NaN   \n5974          zest    NaN           1.0      NaN   NaN  1.0      NaN   \n\nemotion  surprise  trust  \n0             NaN    NaN  \n1             NaN    NaN  \n2             NaN    1.0  \n3             NaN    NaN  \n4             NaN    NaN  \n...           ...    ...  \n5970          1.0    NaN  \n5971          1.0    1.0  \n5972          NaN    1.0  \n5973          NaN    NaN  \n5974          NaN    1.0  \n\n[5975 rows x 9 columns]",
      "text/html": "<div>\n<style scoped>\n    .dataframe tbody tr th:only-of-type {\n        vertical-align: middle;\n    }\n\n    .dataframe tbody tr th {\n        vertical-align: top;\n    }\n\n    .dataframe thead th {\n        text-align: right;\n    }\n</style>\n<table border=\"1\" class=\"dataframe\">\n  <thead>\n    <tr style=\"text-align: right;\">\n      <th>emotion</th>\n      <th>word</th>\n      <th>anger</th>\n      <th>anticipation</th>\n      <th>disgust</th>\n      <th>fear</th>\n      <th>joy</th>\n      <th>sadness</th>\n      <th>surprise</th>\n      <th>trust</th>\n    </tr>\n  </thead>\n  <tbody>\n    <tr>\n      <th>0</th>\n      <td>aaaaaaah</td>\n      <td>NaN</td>\n      <td>NaN</td>\n      <td>NaN</td>\n      <td>1.0</td>\n      <td>NaN</td>\n      <td>NaN</td>\n      <td>NaN</td>\n      <td>NaN</td>\n    </tr>\n    <tr>\n      <th>1</th>\n      <td>aaaah</td>\n      <td>NaN</td>\n      <td>NaN</td>\n      <td>NaN</td>\n      <td>1.0</td>\n      <td>NaN</td>\n      <td>NaN</td>\n      <td>NaN</td>\n      <td>NaN</td>\n    </tr>\n    <tr>\n      <th>2</th>\n      <td>abacus</td>\n      <td>NaN</td>\n      <td>NaN</td>\n      <td>NaN</td>\n      <td>NaN</td>\n      <td>NaN</td>\n      <td>NaN</td>\n      <td>NaN</td>\n      <td>1.0</td>\n    </tr>\n    <tr>\n      <th>3</th>\n      <td>abandon</td>\n      <td>NaN</td>\n      <td>NaN</td>\n      <td>NaN</td>\n      <td>1.0</td>\n      <td>NaN</td>\n      <td>1.0</td>\n      <td>NaN</td>\n      <td>NaN</td>\n    </tr>\n    <tr>\n      <th>4</th>\n      <td>abandoned</td>\n      <td>1.0</td>\n      <td>NaN</td>\n      <td>NaN</td>\n      <td>1.0</td>\n      <td>NaN</td>\n      <td>1.0</td>\n      <td>NaN</td>\n      <td>NaN</td>\n    </tr>\n    <tr>\n      <th>...</th>\n      <td>...</td>\n      <td>...</td>\n      <td>...</td>\n      <td>...</td>\n      <td>...</td>\n      <td>...</td>\n      <td>...</td>\n      <td>...</td>\n      <td>...</td>\n    </tr>\n    <tr>\n      <th>5970</th>\n      <td>zany</td>\n      <td>NaN</td>\n      <td>NaN</td>\n      <td>NaN</td>\n      <td>NaN</td>\n      <td>NaN</td>\n      <td>NaN</td>\n      <td>1.0</td>\n      <td>NaN</td>\n    </tr>\n    <tr>\n      <th>5971</th>\n      <td>zeal</td>\n      <td>NaN</td>\n      <td>1.0</td>\n      <td>NaN</td>\n      <td>NaN</td>\n      <td>1.0</td>\n      <td>NaN</td>\n      <td>1.0</td>\n      <td>1.0</td>\n    </tr>\n    <tr>\n      <th>5972</th>\n      <td>zealous</td>\n      <td>NaN</td>\n      <td>NaN</td>\n      <td>NaN</td>\n      <td>NaN</td>\n      <td>1.0</td>\n      <td>NaN</td>\n      <td>NaN</td>\n      <td>1.0</td>\n    </tr>\n    <tr>\n      <th>5973</th>\n      <td>zen</td>\n      <td>NaN</td>\n      <td>NaN</td>\n      <td>NaN</td>\n      <td>NaN</td>\n      <td>1.0</td>\n      <td>NaN</td>\n      <td>NaN</td>\n      <td>NaN</td>\n    </tr>\n    <tr>\n      <th>5974</th>\n      <td>zest</td>\n      <td>NaN</td>\n      <td>1.0</td>\n      <td>NaN</td>\n      <td>NaN</td>\n      <td>1.0</td>\n      <td>NaN</td>\n      <td>NaN</td>\n      <td>1.0</td>\n    </tr>\n  </tbody>\n</table>\n<p>5975 rows × 9 columns</p>\n</div>"
     },
     "metadata": {},
     "execution_count": 19
    }
   ],
   "source": [
    "threshold = 0.6\n",
    "\n",
    "\n",
    "tmp=emotion_intensity[emotion_intensity[\"emotion-intensity-score\"]>=threshold]\n",
    "tmp[\"emotion-intensity-score\"]=1\n",
    "emotion_intensity_filter=tmp.pivot(index='word', columns='emotion')\n",
    "emotion_intensity_filter=emotion_intensity_filter.droplevel(0,axis=1).reset_index(\"word\")\n",
    "emotion_intensity_filter"
   ]
  },
  {
   "cell_type": "markdown",
   "metadata": {},
   "source": [
    "**Pre-Procesamiento**:\n",
    "    Creo un diccionario que va a tener cómo indice las emociones y cada una con su lista de palaras asociadas"
   ]
  },
  {
   "cell_type": "code",
   "execution_count": 20,
   "metadata": {},
   "outputs": [],
   "source": [
    "for j in intensity_list:\n",
    "    exec(\"{} = pd.DataFrame(emotion_intensity_filter[emotion_intensity_filter[j] == 1].word)\".format(j))\n",
    "    \n",
    "intensity = {\n",
    "    \"Anger\": list(anger[\"word\"]),\n",
    "    \"Anticipation\": list(anticipation[\"word\"]),\n",
    "    \"Disgust\": list(disgust[\"word\"]),\n",
    "    \"Fear\": list(fear[\"word\"]),\n",
    "    \"Joy\": list(joy[\"word\"]),\n",
    "    \"Sadness\": list(sadness[\"word\"]),\n",
    "    \"Surprise\": list(surprise[\"word\"]),\n",
    "    \"Trust\": list(trust[\"word\"])\n",
    "}\n",
    "\n",
    "#intensity"
   ]
  },
  {
   "cell_type": "markdown",
   "metadata": {},
   "source": [
    "**Sentiment Analysis**: Matcheo el diccionario de las palaras y emociones con las palabras de los sueños. Despues agrupo y sumo la cantidad de matchs por sueños"
   ]
  },
  {
   "cell_type": "code",
   "execution_count": 21,
   "metadata": {},
   "outputs": [],
   "source": [
    "for l, w in intensity.items():\n",
    "    df_words_intensity[l] = df_words_intensity.description.str.contains('|'.join(intensity[l]))\n",
    "    \n",
    "df_words_ints_groups=df_words_intensity.groupby('index').sum().astype(int)"
   ]
  },
  {
   "cell_type": "code",
   "execution_count": 22,
   "metadata": {},
   "outputs": [
    {
     "output_type": "execute_result",
     "data": {
      "text/plain": "       Anger  Anticipation  Disgust  Fear  Joy  Sadness  Surprise  Trust\nindex                                                                   \n0          7             6        9     8    3        9         3     11\n1         12            10       12    14   12       21         1     17\n2         12            16       11    17   12       15         9     22\n3         22            18       21    21   26       29        12     30\n4         18            26       22    20   32       18        10     39",
      "text/html": "<div>\n<style scoped>\n    .dataframe tbody tr th:only-of-type {\n        vertical-align: middle;\n    }\n\n    .dataframe tbody tr th {\n        vertical-align: top;\n    }\n\n    .dataframe thead th {\n        text-align: right;\n    }\n</style>\n<table border=\"1\" class=\"dataframe\">\n  <thead>\n    <tr style=\"text-align: right;\">\n      <th></th>\n      <th>Anger</th>\n      <th>Anticipation</th>\n      <th>Disgust</th>\n      <th>Fear</th>\n      <th>Joy</th>\n      <th>Sadness</th>\n      <th>Surprise</th>\n      <th>Trust</th>\n    </tr>\n    <tr>\n      <th>index</th>\n      <th></th>\n      <th></th>\n      <th></th>\n      <th></th>\n      <th></th>\n      <th></th>\n      <th></th>\n      <th></th>\n    </tr>\n  </thead>\n  <tbody>\n    <tr>\n      <th>0</th>\n      <td>7</td>\n      <td>6</td>\n      <td>9</td>\n      <td>8</td>\n      <td>3</td>\n      <td>9</td>\n      <td>3</td>\n      <td>11</td>\n    </tr>\n    <tr>\n      <th>1</th>\n      <td>12</td>\n      <td>10</td>\n      <td>12</td>\n      <td>14</td>\n      <td>12</td>\n      <td>21</td>\n      <td>1</td>\n      <td>17</td>\n    </tr>\n    <tr>\n      <th>2</th>\n      <td>12</td>\n      <td>16</td>\n      <td>11</td>\n      <td>17</td>\n      <td>12</td>\n      <td>15</td>\n      <td>9</td>\n      <td>22</td>\n    </tr>\n    <tr>\n      <th>3</th>\n      <td>22</td>\n      <td>18</td>\n      <td>21</td>\n      <td>21</td>\n      <td>26</td>\n      <td>29</td>\n      <td>12</td>\n      <td>30</td>\n    </tr>\n    <tr>\n      <th>4</th>\n      <td>18</td>\n      <td>26</td>\n      <td>22</td>\n      <td>20</td>\n      <td>32</td>\n      <td>18</td>\n      <td>10</td>\n      <td>39</td>\n    </tr>\n  </tbody>\n</table>\n</div>"
     },
     "metadata": {},
     "execution_count": 22
    }
   ],
   "source": [
    "df_words_ints_groups.head()"
   ]
  },
  {
   "cell_type": "markdown",
   "metadata": {},
   "source": [
    "**Sentiment Analysis**:  Hago un join entre las palabras que hicieron match con las emociones y la base de los sueños. Creo la base final:"
   ]
  },
  {
   "cell_type": "code",
   "execution_count": 23,
   "metadata": {},
   "outputs": [
    {
     "output_type": "execute_result",
     "data": {
      "text/plain": "      code       note                                        description  \\\n0        1       1957  the one at the meadss house where its bigger i...   \n1        2    8/11/67  im at a family reunion in a large fine house w...   \n2        3     8/1/85  i watch a plane fly past and shortly realize i...   \n3        4      1985?  me pulling the green leaves and berries off so...   \n4        5      1985?  im in a room that reminds me of but definitely...   \n...    ...        ...                                                ...   \n43221   85  F, age 18  the dream was about me and my boyfriend going ...   \n43222   86  F, age 18  two weeks ago this guy asked me to senior ball...   \n43223   87  F, age 18  my boyfriend just broke up with me so he was o...   \n43224   88  F, age 18  i was in my backyard and i was flying i would ...   \n43225   89  F, age 18  i felt scared i was pregnant in my dream then ...   \n\n       words  group_id  Anger  Anticipation  Disgust  Fear  Joy  Sadness  \\\n0      154.0         1      7             6        9     8    3        9   \n1      248.0         1     12            10       12    14   12       21   \n2      303.0         1     12            16       11    17   12       15   \n3      468.0         1     22            18       21    21   26       29   \n4      561.0         1     18            26       22    20   32       18   \n...      ...       ...    ...           ...      ...   ...  ...      ...   \n43221  138.0        89      6            13        8     6   15       10   \n43222   96.0        89      3             2        0     2    6        2   \n43223  139.0        89      4             5        6     4    7        4   \n43224  104.0        89      5             9        3     4   10        6   \n43225   92.0        89      5             9        5     5   14        8   \n\n       Surprise  Trust  \n0             3     11  \n1             1     17  \n2             9     22  \n3            12     30  \n4            10     39  \n...         ...    ...  \n43221         5      7  \n43222         4      7  \n43223         4     14  \n43224         7     14  \n43225         4      8  \n\n[43132 rows x 13 columns]",
      "text/html": "<div>\n<style scoped>\n    .dataframe tbody tr th:only-of-type {\n        vertical-align: middle;\n    }\n\n    .dataframe tbody tr th {\n        vertical-align: top;\n    }\n\n    .dataframe thead th {\n        text-align: right;\n    }\n</style>\n<table border=\"1\" class=\"dataframe\">\n  <thead>\n    <tr style=\"text-align: right;\">\n      <th></th>\n      <th>code</th>\n      <th>note</th>\n      <th>description</th>\n      <th>words</th>\n      <th>group_id</th>\n      <th>Anger</th>\n      <th>Anticipation</th>\n      <th>Disgust</th>\n      <th>Fear</th>\n      <th>Joy</th>\n      <th>Sadness</th>\n      <th>Surprise</th>\n      <th>Trust</th>\n    </tr>\n  </thead>\n  <tbody>\n    <tr>\n      <th>0</th>\n      <td>1</td>\n      <td>1957</td>\n      <td>the one at the meadss house where its bigger i...</td>\n      <td>154.0</td>\n      <td>1</td>\n      <td>7</td>\n      <td>6</td>\n      <td>9</td>\n      <td>8</td>\n      <td>3</td>\n      <td>9</td>\n      <td>3</td>\n      <td>11</td>\n    </tr>\n    <tr>\n      <th>1</th>\n      <td>2</td>\n      <td>8/11/67</td>\n      <td>im at a family reunion in a large fine house w...</td>\n      <td>248.0</td>\n      <td>1</td>\n      <td>12</td>\n      <td>10</td>\n      <td>12</td>\n      <td>14</td>\n      <td>12</td>\n      <td>21</td>\n      <td>1</td>\n      <td>17</td>\n    </tr>\n    <tr>\n      <th>2</th>\n      <td>3</td>\n      <td>8/1/85</td>\n      <td>i watch a plane fly past and shortly realize i...</td>\n      <td>303.0</td>\n      <td>1</td>\n      <td>12</td>\n      <td>16</td>\n      <td>11</td>\n      <td>17</td>\n      <td>12</td>\n      <td>15</td>\n      <td>9</td>\n      <td>22</td>\n    </tr>\n    <tr>\n      <th>3</th>\n      <td>4</td>\n      <td>1985?</td>\n      <td>me pulling the green leaves and berries off so...</td>\n      <td>468.0</td>\n      <td>1</td>\n      <td>22</td>\n      <td>18</td>\n      <td>21</td>\n      <td>21</td>\n      <td>26</td>\n      <td>29</td>\n      <td>12</td>\n      <td>30</td>\n    </tr>\n    <tr>\n      <th>4</th>\n      <td>5</td>\n      <td>1985?</td>\n      <td>im in a room that reminds me of but definitely...</td>\n      <td>561.0</td>\n      <td>1</td>\n      <td>18</td>\n      <td>26</td>\n      <td>22</td>\n      <td>20</td>\n      <td>32</td>\n      <td>18</td>\n      <td>10</td>\n      <td>39</td>\n    </tr>\n    <tr>\n      <th>...</th>\n      <td>...</td>\n      <td>...</td>\n      <td>...</td>\n      <td>...</td>\n      <td>...</td>\n      <td>...</td>\n      <td>...</td>\n      <td>...</td>\n      <td>...</td>\n      <td>...</td>\n      <td>...</td>\n      <td>...</td>\n      <td>...</td>\n    </tr>\n    <tr>\n      <th>43221</th>\n      <td>85</td>\n      <td>F, age 18</td>\n      <td>the dream was about me and my boyfriend going ...</td>\n      <td>138.0</td>\n      <td>89</td>\n      <td>6</td>\n      <td>13</td>\n      <td>8</td>\n      <td>6</td>\n      <td>15</td>\n      <td>10</td>\n      <td>5</td>\n      <td>7</td>\n    </tr>\n    <tr>\n      <th>43222</th>\n      <td>86</td>\n      <td>F, age 18</td>\n      <td>two weeks ago this guy asked me to senior ball...</td>\n      <td>96.0</td>\n      <td>89</td>\n      <td>3</td>\n      <td>2</td>\n      <td>0</td>\n      <td>2</td>\n      <td>6</td>\n      <td>2</td>\n      <td>4</td>\n      <td>7</td>\n    </tr>\n    <tr>\n      <th>43223</th>\n      <td>87</td>\n      <td>F, age 18</td>\n      <td>my boyfriend just broke up with me so he was o...</td>\n      <td>139.0</td>\n      <td>89</td>\n      <td>4</td>\n      <td>5</td>\n      <td>6</td>\n      <td>4</td>\n      <td>7</td>\n      <td>4</td>\n      <td>4</td>\n      <td>14</td>\n    </tr>\n    <tr>\n      <th>43224</th>\n      <td>88</td>\n      <td>F, age 18</td>\n      <td>i was in my backyard and i was flying i would ...</td>\n      <td>104.0</td>\n      <td>89</td>\n      <td>5</td>\n      <td>9</td>\n      <td>3</td>\n      <td>4</td>\n      <td>10</td>\n      <td>6</td>\n      <td>7</td>\n      <td>14</td>\n    </tr>\n    <tr>\n      <th>43225</th>\n      <td>89</td>\n      <td>F, age 18</td>\n      <td>i felt scared i was pregnant in my dream then ...</td>\n      <td>92.0</td>\n      <td>89</td>\n      <td>5</td>\n      <td>9</td>\n      <td>5</td>\n      <td>5</td>\n      <td>14</td>\n      <td>8</td>\n      <td>4</td>\n      <td>8</td>\n    </tr>\n  </tbody>\n</table>\n<p>43132 rows × 13 columns</p>\n</div>"
     },
     "metadata": {},
     "execution_count": 23
    }
   ],
   "source": [
    "dreams_groups_intensity = dreams_groups.merge(df_words_ints_groups, how='inner', \n",
    "                                      left_index=True,\n",
    "                                      right_index=True)\n",
    "dreams_groups_intensity"
   ]
  },
  {
   "cell_type": "code",
   "execution_count": null,
   "metadata": {},
   "outputs": [],
   "source": [
    "#dreams_groups_intensity.to_csv(f'{data_directory}/sa/out/intensity.csv', index = False)"
   ]
  },
  {
   "cell_type": "markdown",
   "metadata": {},
   "source": [
    "## Primeras conclusiones y próximos pasos"
   ]
  },
  {
   "cell_type": "markdown",
   "metadata": {},
   "source": [
    "El análisis parece ser mas efectivo utilizando la base de Emotion_Intensity, por lo siguiete:\n",
    "\n",
    "Emotion_Lexicon puede tener muchas palabras que estan asociadas a mas de una emoción, lo cual ensucia un poco los resultados.\n",
    "\n",
    "Por otro lado, con Emotion_Intensity podemos controlar la efectividad de la asociación con la variable que tiene el % de asociación. En un principio, estariamos usando un punto de corte de asociación > 0.6, por ahora parece andar bien a falta analizar mejor los resultados con visualizaciones.\n",
    "\n",
    "Los próximos pasos que se me ocurre que podriamos hacer:\n",
    "\n",
    "- Calcular la proporción de emociones presentes en cada sueño, asi podríamos determinar cual es la emoción predominante.\n",
    "\n",
    "- Hacer algún análisis exploratorio con el punto anterior para determinar que emociones predominan en cada grupo que quisieramos elegir.\n",
    "\n",
    "- En caso de avanzar con el Sentiment Analysis que utiliza el % de asociación, podríamos calcular qué emociones califican como positivas (Joy y Trust) cuales como negativas (Anger, Fear, Disgust y Sadness) y cuales como neutrales (Surprise y Anticipation). Calculamos las proporciones y vemos cual categoría es la predominante.]\n",
    "\n",
    "- Como algo adicional pero que también puede estar copado, podríamos gráficar cómo se presentan e interactuan las emociones a lo largo del tiempo para cada grupo. Así podríamos ver por ejemplo como se diferencian las emociones que experimenta el grupo de sueños del veterano y el de Phil."
   ]
  },
  {
   "cell_type": "markdown",
   "metadata": {},
   "source": [
    "## Parte 2a"
   ]
  },
  {
   "cell_type": "markdown",
   "metadata": {},
   "source": [
    "Defino categorias de palabras positivas  (Joy, Trust y Anticipation),  negativas (Anger, Fear, Disgust y Sadness) y  neutrales (Surprise)"
   ]
  },
  {
   "cell_type": "code",
   "execution_count": 24,
   "metadata": {},
   "outputs": [],
   "source": [
    "positive_emotions=[\"Joy\",\"Trust\",\"Anticipation\"]\n",
    "negative_emotions=[\"Anger\",\"Fear\",\"Disgust\",\"Sadness\"]\n",
    "neutral_emotions=[\"Surprise\"]"
   ]
  },
  {
   "cell_type": "markdown",
   "metadata": {},
   "source": [
    "Calculo cantidad de palabras positivas, negativas y neutrales"
   ]
  },
  {
   "cell_type": "code",
   "execution_count": 25,
   "metadata": {},
   "outputs": [
    {
     "output_type": "execute_result",
     "data": {
      "text/plain": "  code     note                                        description  words  \\\n0    1     1957  the one at the meadss house where its bigger i...  154.0   \n1    2  8/11/67  im at a family reunion in a large fine house w...  248.0   \n2    3   8/1/85  i watch a plane fly past and shortly realize i...  303.0   \n\n   group_id  Anger  Anticipation  Disgust  Fear  Joy  Sadness  Surprise  \\\n0         1      7             6        9     8    3        9         3   \n1         1     12            10       12    14   12       21         1   \n2         1     12            16       11    17   12       15         9   \n\n   Trust  Positive  Negative  Neutral  \n0     11        20        33        3  \n1     17        39        59        1  \n2     22        50        55        9  ",
      "text/html": "<div>\n<style scoped>\n    .dataframe tbody tr th:only-of-type {\n        vertical-align: middle;\n    }\n\n    .dataframe tbody tr th {\n        vertical-align: top;\n    }\n\n    .dataframe thead th {\n        text-align: right;\n    }\n</style>\n<table border=\"1\" class=\"dataframe\">\n  <thead>\n    <tr style=\"text-align: right;\">\n      <th></th>\n      <th>code</th>\n      <th>note</th>\n      <th>description</th>\n      <th>words</th>\n      <th>group_id</th>\n      <th>Anger</th>\n      <th>Anticipation</th>\n      <th>Disgust</th>\n      <th>Fear</th>\n      <th>Joy</th>\n      <th>Sadness</th>\n      <th>Surprise</th>\n      <th>Trust</th>\n      <th>Positive</th>\n      <th>Negative</th>\n      <th>Neutral</th>\n    </tr>\n  </thead>\n  <tbody>\n    <tr>\n      <th>0</th>\n      <td>1</td>\n      <td>1957</td>\n      <td>the one at the meadss house where its bigger i...</td>\n      <td>154.0</td>\n      <td>1</td>\n      <td>7</td>\n      <td>6</td>\n      <td>9</td>\n      <td>8</td>\n      <td>3</td>\n      <td>9</td>\n      <td>3</td>\n      <td>11</td>\n      <td>20</td>\n      <td>33</td>\n      <td>3</td>\n    </tr>\n    <tr>\n      <th>1</th>\n      <td>2</td>\n      <td>8/11/67</td>\n      <td>im at a family reunion in a large fine house w...</td>\n      <td>248.0</td>\n      <td>1</td>\n      <td>12</td>\n      <td>10</td>\n      <td>12</td>\n      <td>14</td>\n      <td>12</td>\n      <td>21</td>\n      <td>1</td>\n      <td>17</td>\n      <td>39</td>\n      <td>59</td>\n      <td>1</td>\n    </tr>\n    <tr>\n      <th>2</th>\n      <td>3</td>\n      <td>8/1/85</td>\n      <td>i watch a plane fly past and shortly realize i...</td>\n      <td>303.0</td>\n      <td>1</td>\n      <td>12</td>\n      <td>16</td>\n      <td>11</td>\n      <td>17</td>\n      <td>12</td>\n      <td>15</td>\n      <td>9</td>\n      <td>22</td>\n      <td>50</td>\n      <td>55</td>\n      <td>9</td>\n    </tr>\n  </tbody>\n</table>\n</div>"
     },
     "metadata": {},
     "execution_count": 25
    }
   ],
   "source": [
    "dreams_groups_intensity['Positive']= dreams_groups_intensity.loc[:,positive_emotions].sum(axis=1)\n",
    "dreams_groups_intensity['Negative']= dreams_groups_intensity.loc[:,negative_emotions].sum(axis=1)\n",
    "dreams_groups_intensity['Neutral']= dreams_groups_intensity.loc[:,neutral_emotions].sum(axis=1)\n",
    "dreams_groups_intensity.head(3)"
   ]
  },
  {
   "cell_type": "code",
   "execution_count": 26,
   "metadata": {},
   "outputs": [
    {
     "output_type": "execute_result",
     "data": {
      "text/plain": "'i watch a plane fly past and shortly realize it was too low it crashes not half a block away rather as though it fell from a height of a few yards than flying straight into the ground and i think there might be survivors and that i should call the police before i get the number dialed i realize i want the fire department instead i get no ring try again and find the line is dead some people   at least one a woman are coming toward the house and i understand they are responsible for the dead phone and i should be suspicious of them i try to leave the house  run into a pregnant girl at the back; she seems to be in some sort of a bad way and has maybe started labor the woman from the plane comes this way calls the others to come get the pregnant girl and i pretend to be asleep or dead they dont buy it i guess and we all go inside â\\xa0â\\xa0â\\xa0â\\xa0â\\xa0â\\xa0 im not a prisoner i dont think so much as being detained for some reason and i go to my brothers old room he moved out of it a couple of years ago but there is furniture still there and i havent looked around in a long time this does not seem to be the family home  i felt like it was rented there are a couple of chests of drawers that i realize i could have used downstairs long ago yet ive been looking for acceptable furniture all this time also there are blankets as well as clothes and shoes  womens shoes  but they arent important a lot of blankets and i badly needed those last winter but didnt realize they were here also a very nice shoe rack the woman comes back to say or do something i dont know what and the dream ended about there i think'"
     },
     "metadata": {},
     "execution_count": 26
    }
   ],
   "source": [
    "dreams_groups_intensity.iloc[2,2]"
   ]
  },
  {
   "cell_type": "markdown",
   "metadata": {},
   "source": [
    "Hago una lista de todas las variables de conteos de emociones para calcular las proporciones de cada una"
   ]
  },
  {
   "cell_type": "code",
   "execution_count": 27,
   "metadata": {},
   "outputs": [
    {
     "output_type": "execute_result",
     "data": {
      "text/plain": "['Joy',\n 'Trust',\n 'Anticipation',\n 'Anger',\n 'Fear',\n 'Disgust',\n 'Sadness',\n 'Surprise',\n 'Positive',\n 'Negative',\n 'Neutral']"
     },
     "metadata": {},
     "execution_count": 27
    }
   ],
   "source": [
    "all_emotions=positive_emotions+negative_emotions+neutral_emotions+[\"Positive\",\"Negative\",\"Neutral\"]\n",
    "all_emotions"
   ]
  },
  {
   "cell_type": "markdown",
   "metadata": {},
   "source": [
    "Calculo las proporciones"
   ]
  },
  {
   "cell_type": "code",
   "execution_count": 28,
   "metadata": {},
   "outputs": [],
   "source": [
    "for emo in all_emotions:\n",
    "    exec(\"dreams_groups_intensity['{}_pct'] = dreams_groups_intensity['{}'] / dreams_groups_intensity['words']\".format(emo,emo))"
   ]
  },
  {
   "cell_type": "markdown",
   "metadata": {},
   "source": [
    "Hago 2 listas con las variables de las proporciones, una para las emociones y otra para los sentimientos positivos, negativos y neutrales"
   ]
  },
  {
   "cell_type": "code",
   "execution_count": 29,
   "metadata": {},
   "outputs": [],
   "source": [
    "sentiment_pct=dreams_groups_intensity.columns[-3:]\n",
    "emotions_pct=dreams_groups_intensity.columns[-11:-4]"
   ]
  },
  {
   "cell_type": "code",
   "execution_count": 30,
   "metadata": {},
   "outputs": [
    {
     "output_type": "execute_result",
     "data": {
      "text/plain": "Index(['Positive_pct', 'Negative_pct', 'Neutral_pct'], dtype='object')"
     },
     "metadata": {},
     "execution_count": 30
    }
   ],
   "source": [
    "sentiment_pct"
   ]
  },
  {
   "cell_type": "code",
   "execution_count": 31,
   "metadata": {},
   "outputs": [
    {
     "output_type": "execute_result",
     "data": {
      "text/plain": "Index(['Joy_pct', 'Trust_pct', 'Anticipation_pct', 'Anger_pct', 'Fear_pct',\n       'Disgust_pct', 'Sadness_pct'],\n      dtype='object')"
     },
     "metadata": {},
     "execution_count": 31
    }
   ],
   "source": [
    "emotions_pct"
   ]
  },
  {
   "cell_type": "markdown",
   "metadata": {},
   "source": [
    "Calculo cual es la emoción y el sentimiento con mayor proporción"
   ]
  },
  {
   "cell_type": "code",
   "execution_count": 32,
   "metadata": {},
   "outputs": [
    {
     "output_type": "execute_result",
     "data": {
      "text/plain": "   Dominant_Emotion_pct  Dominant_Sentiment_pct\n0              0.071429                0.214286\n1              0.084677                0.237903\n2              0.072607                0.181518",
      "text/html": "<div>\n<style scoped>\n    .dataframe tbody tr th:only-of-type {\n        vertical-align: middle;\n    }\n\n    .dataframe tbody tr th {\n        vertical-align: top;\n    }\n\n    .dataframe thead th {\n        text-align: right;\n    }\n</style>\n<table border=\"1\" class=\"dataframe\">\n  <thead>\n    <tr style=\"text-align: right;\">\n      <th></th>\n      <th>Dominant_Emotion_pct</th>\n      <th>Dominant_Sentiment_pct</th>\n    </tr>\n  </thead>\n  <tbody>\n    <tr>\n      <th>0</th>\n      <td>0.071429</td>\n      <td>0.214286</td>\n    </tr>\n    <tr>\n      <th>1</th>\n      <td>0.084677</td>\n      <td>0.237903</td>\n    </tr>\n    <tr>\n      <th>2</th>\n      <td>0.072607</td>\n      <td>0.181518</td>\n    </tr>\n  </tbody>\n</table>\n</div>"
     },
     "metadata": {},
     "execution_count": 32
    }
   ],
   "source": [
    "dreams_groups_intensity[\"Dominant_Emotion_pct\"] = dreams_groups_intensity[emotions_pct].max(axis=1)\n",
    "dreams_groups_intensity[\"Dominant_Sentiment_pct\"] = dreams_groups_intensity[sentiment_pct].max(axis=1)\n",
    "dreams_groups_intensity.iloc[:,[-2,-1]].head(3)"
   ]
  },
  {
   "cell_type": "markdown",
   "metadata": {},
   "source": [
    "Calculo a que emoción/sentimiento pertenece esa mayor proporción"
   ]
  },
  {
   "cell_type": "code",
   "execution_count": 33,
   "metadata": {},
   "outputs": [],
   "source": [
    "def emotions_f(row):\n",
    "    if row['Dominant_Emotion_pct'] == row['Anger_pct']:\n",
    "        val = \"Anger\"\n",
    "    elif row['Dominant_Emotion_pct'] == row['Anticipation_pct']:\n",
    "        val = \"Anticipation\"\n",
    "    elif row['Dominant_Emotion_pct'] == row['Fear_pct']:\n",
    "        val = \"Fear\"\n",
    "    elif row['Dominant_Emotion_pct'] == row['Disgust_pct']:\n",
    "        val = \"Disgust\"\n",
    "    elif row['Dominant_Emotion_pct'] == row['Sadness_pct']:\n",
    "        val = \"Sadness\"\n",
    "    elif row['Dominant_Emotion_pct'] == row['Surprise_pct']:\n",
    "        val = \"Surprise\"\n",
    "    elif row['Dominant_Emotion_pct'] == row['Joy_pct']:\n",
    "        val = \"Joy\"\n",
    "    else:\n",
    "        val = \"Trust\"\n",
    "    return val\n",
    "\n",
    "def sentiment_f(row):\n",
    "    if row['Dominant_Sentiment_pct'] == row['Positive_pct']:\n",
    "        val = \"Positive\"\n",
    "    elif row['Dominant_Sentiment_pct'] == row['Negative_pct']:\n",
    "        val = \"Negative\"\n",
    "    else:\n",
    "        val=\"Neutral\"\n",
    "    return val"
   ]
  },
  {
   "cell_type": "code",
   "execution_count": 34,
   "metadata": {},
   "outputs": [],
   "source": [
    "dreams_groups_intensity['Dominant_Emotion'] = dreams_groups_intensity.apply(emotions_f, axis=1)\n",
    "dreams_groups_intensity['Dominant_Sentment'] = dreams_groups_intensity.apply(sentiment_f, axis=1)"
   ]
  },
  {
   "cell_type": "code",
   "execution_count": 35,
   "metadata": {},
   "outputs": [
    {
     "output_type": "execute_result",
     "data": {
      "text/plain": "  code     note                                        description  words  \\\n0    1     1957  the one at the meadss house where its bigger i...  154.0   \n1    2  8/11/67  im at a family reunion in a large fine house w...  248.0   \n2    3   8/1/85  i watch a plane fly past and shortly realize i...  303.0   \n\n   group_id  Anger  Anticipation  Disgust  Fear  Joy  ...  Disgust_pct  \\\n0         1      7             6        9     8    3  ...     0.058442   \n1         1     12            10       12    14   12  ...     0.048387   \n2         1     12            16       11    17   12  ...     0.036304   \n\n   Sadness_pct  Surprise_pct  Positive_pct  Negative_pct  Neutral_pct  \\\n0     0.058442      0.019481      0.129870      0.214286     0.019481   \n1     0.084677      0.004032      0.157258      0.237903     0.004032   \n2     0.049505      0.029703      0.165017      0.181518     0.029703   \n\n   Dominant_Emotion_pct  Dominant_Sentiment_pct  Dominant_Emotion  \\\n0              0.071429                0.214286             Trust   \n1              0.084677                0.237903           Sadness   \n2              0.072607                0.181518             Trust   \n\n   Dominant_Sentment  \n0           Negative  \n1           Negative  \n2           Negative  \n\n[3 rows x 31 columns]",
      "text/html": "<div>\n<style scoped>\n    .dataframe tbody tr th:only-of-type {\n        vertical-align: middle;\n    }\n\n    .dataframe tbody tr th {\n        vertical-align: top;\n    }\n\n    .dataframe thead th {\n        text-align: right;\n    }\n</style>\n<table border=\"1\" class=\"dataframe\">\n  <thead>\n    <tr style=\"text-align: right;\">\n      <th></th>\n      <th>code</th>\n      <th>note</th>\n      <th>description</th>\n      <th>words</th>\n      <th>group_id</th>\n      <th>Anger</th>\n      <th>Anticipation</th>\n      <th>Disgust</th>\n      <th>Fear</th>\n      <th>Joy</th>\n      <th>...</th>\n      <th>Disgust_pct</th>\n      <th>Sadness_pct</th>\n      <th>Surprise_pct</th>\n      <th>Positive_pct</th>\n      <th>Negative_pct</th>\n      <th>Neutral_pct</th>\n      <th>Dominant_Emotion_pct</th>\n      <th>Dominant_Sentiment_pct</th>\n      <th>Dominant_Emotion</th>\n      <th>Dominant_Sentment</th>\n    </tr>\n  </thead>\n  <tbody>\n    <tr>\n      <th>0</th>\n      <td>1</td>\n      <td>1957</td>\n      <td>the one at the meadss house where its bigger i...</td>\n      <td>154.0</td>\n      <td>1</td>\n      <td>7</td>\n      <td>6</td>\n      <td>9</td>\n      <td>8</td>\n      <td>3</td>\n      <td>...</td>\n      <td>0.058442</td>\n      <td>0.058442</td>\n      <td>0.019481</td>\n      <td>0.129870</td>\n      <td>0.214286</td>\n      <td>0.019481</td>\n      <td>0.071429</td>\n      <td>0.214286</td>\n      <td>Trust</td>\n      <td>Negative</td>\n    </tr>\n    <tr>\n      <th>1</th>\n      <td>2</td>\n      <td>8/11/67</td>\n      <td>im at a family reunion in a large fine house w...</td>\n      <td>248.0</td>\n      <td>1</td>\n      <td>12</td>\n      <td>10</td>\n      <td>12</td>\n      <td>14</td>\n      <td>12</td>\n      <td>...</td>\n      <td>0.048387</td>\n      <td>0.084677</td>\n      <td>0.004032</td>\n      <td>0.157258</td>\n      <td>0.237903</td>\n      <td>0.004032</td>\n      <td>0.084677</td>\n      <td>0.237903</td>\n      <td>Sadness</td>\n      <td>Negative</td>\n    </tr>\n    <tr>\n      <th>2</th>\n      <td>3</td>\n      <td>8/1/85</td>\n      <td>i watch a plane fly past and shortly realize i...</td>\n      <td>303.0</td>\n      <td>1</td>\n      <td>12</td>\n      <td>16</td>\n      <td>11</td>\n      <td>17</td>\n      <td>12</td>\n      <td>...</td>\n      <td>0.036304</td>\n      <td>0.049505</td>\n      <td>0.029703</td>\n      <td>0.165017</td>\n      <td>0.181518</td>\n      <td>0.029703</td>\n      <td>0.072607</td>\n      <td>0.181518</td>\n      <td>Trust</td>\n      <td>Negative</td>\n    </tr>\n  </tbody>\n</table>\n<p>3 rows × 31 columns</p>\n</div>"
     },
     "metadata": {},
     "execution_count": 35
    }
   ],
   "source": [
    "dreams_groups_intensity.head(3)"
   ]
  },
  {
   "cell_type": "code",
   "execution_count": 36,
   "metadata": {},
   "outputs": [
    {
     "output_type": "stream",
     "name": "stdout",
     "text": "<class 'pandas.core.frame.DataFrame'>\nInt64Index: 43132 entries, 0 to 43225\nData columns (total 31 columns):\n #   Column                  Non-Null Count  Dtype  \n---  ------                  --------------  -----  \n 0   code                    43132 non-null  object \n 1   note                    40997 non-null  object \n 2   description             43132 non-null  object \n 3   words                   43132 non-null  float64\n 4   group_id                43132 non-null  int64  \n 5   Anger                   43132 non-null  int64  \n 6   Anticipation            43132 non-null  int64  \n 7   Disgust                 43132 non-null  int64  \n 8   Fear                    43132 non-null  int64  \n 9   Joy                     43132 non-null  int64  \n 10  Sadness                 43132 non-null  int64  \n 11  Surprise                43132 non-null  int64  \n 12  Trust                   43132 non-null  int64  \n 13  Positive                43132 non-null  int64  \n 14  Negative                43132 non-null  int64  \n 15  Neutral                 43132 non-null  int64  \n 16  Joy_pct                 43132 non-null  float64\n 17  Trust_pct               43132 non-null  float64\n 18  Anticipation_pct        43132 non-null  float64\n 19  Anger_pct               43132 non-null  float64\n 20  Fear_pct                43132 non-null  float64\n 21  Disgust_pct             43132 non-null  float64\n 22  Sadness_pct             43132 non-null  float64\n 23  Surprise_pct            43132 non-null  float64\n 24  Positive_pct            43132 non-null  float64\n 25  Negative_pct            43132 non-null  float64\n 26  Neutral_pct             43132 non-null  float64\n 27  Dominant_Emotion_pct    43132 non-null  float64\n 28  Dominant_Sentiment_pct  43132 non-null  float64\n 29  Dominant_Emotion        43132 non-null  object \n 30  Dominant_Sentment       43132 non-null  object \ndtypes: float64(14), int64(12), object(5)\nmemory usage: 11.8+ MB\n"
    }
   ],
   "source": [
    "dreams_groups_intensity.info()"
   ]
  },
  {
   "cell_type": "code",
   "execution_count": 37,
   "metadata": {},
   "outputs": [],
   "source": [
    "dreams_groups_intensity.to_csv(f'{data_directory}/sa/out/dreams_groups_intensity.csv', index = False)"
   ]
  },
  {
   "cell_type": "markdown",
   "metadata": {},
   "source": [
    "## Punto 2b: Lexicon"
   ]
  },
  {
   "cell_type": "code",
   "execution_count": 38,
   "metadata": {},
   "outputs": [
    {
     "output_type": "execute_result",
     "data": {
      "text/plain": "  code     note                                        description  words  \\\n0    1     1957  the one at the meadss house where its bigger i...  154.0   \n1    2  8/11/67  im at a family reunion in a large fine house w...  248.0   \n2    3   8/1/85  i watch a plane fly past and shortly realize i...  303.0   \n\n   group_id  Positive  Negative  Anger  Anticipation  Disgust  Fear  Joy  \\\n0         1        16        28      8             6        8     6    3   \n1         1        30        50     12            10       11    14    5   \n2         1        39        54     12            16       11    16    4   \n\n   Sadness  Surprise  Trust  Neutral  \n0        6         3      7        3  \n1       13         1     15        1  \n2       15         8     19        8  ",
      "text/html": "<div>\n<style scoped>\n    .dataframe tbody tr th:only-of-type {\n        vertical-align: middle;\n    }\n\n    .dataframe tbody tr th {\n        vertical-align: top;\n    }\n\n    .dataframe thead th {\n        text-align: right;\n    }\n</style>\n<table border=\"1\" class=\"dataframe\">\n  <thead>\n    <tr style=\"text-align: right;\">\n      <th></th>\n      <th>code</th>\n      <th>note</th>\n      <th>description</th>\n      <th>words</th>\n      <th>group_id</th>\n      <th>Positive</th>\n      <th>Negative</th>\n      <th>Anger</th>\n      <th>Anticipation</th>\n      <th>Disgust</th>\n      <th>Fear</th>\n      <th>Joy</th>\n      <th>Sadness</th>\n      <th>Surprise</th>\n      <th>Trust</th>\n      <th>Neutral</th>\n    </tr>\n  </thead>\n  <tbody>\n    <tr>\n      <th>0</th>\n      <td>1</td>\n      <td>1957</td>\n      <td>the one at the meadss house where its bigger i...</td>\n      <td>154.0</td>\n      <td>1</td>\n      <td>16</td>\n      <td>28</td>\n      <td>8</td>\n      <td>6</td>\n      <td>8</td>\n      <td>6</td>\n      <td>3</td>\n      <td>6</td>\n      <td>3</td>\n      <td>7</td>\n      <td>3</td>\n    </tr>\n    <tr>\n      <th>1</th>\n      <td>2</td>\n      <td>8/11/67</td>\n      <td>im at a family reunion in a large fine house w...</td>\n      <td>248.0</td>\n      <td>1</td>\n      <td>30</td>\n      <td>50</td>\n      <td>12</td>\n      <td>10</td>\n      <td>11</td>\n      <td>14</td>\n      <td>5</td>\n      <td>13</td>\n      <td>1</td>\n      <td>15</td>\n      <td>1</td>\n    </tr>\n    <tr>\n      <th>2</th>\n      <td>3</td>\n      <td>8/1/85</td>\n      <td>i watch a plane fly past and shortly realize i...</td>\n      <td>303.0</td>\n      <td>1</td>\n      <td>39</td>\n      <td>54</td>\n      <td>12</td>\n      <td>16</td>\n      <td>11</td>\n      <td>16</td>\n      <td>4</td>\n      <td>15</td>\n      <td>8</td>\n      <td>19</td>\n      <td>8</td>\n    </tr>\n  </tbody>\n</table>\n</div>"
     },
     "metadata": {},
     "execution_count": 38
    }
   ],
   "source": [
    "dreams_groups_emotions['Positive']= dreams_groups_emotions.loc[:,positive_emotions].sum(axis=1)\n",
    "dreams_groups_emotions['Negative']= dreams_groups_emotions.loc[:,negative_emotions].sum(axis=1)\n",
    "dreams_groups_emotions['Neutral']= dreams_groups_emotions.loc[:,neutral_emotions].sum(axis=1)\n",
    "dreams_groups_emotions.head(3)"
   ]
  },
  {
   "cell_type": "code",
   "execution_count": 39,
   "metadata": {},
   "outputs": [
    {
     "output_type": "execute_result",
     "data": {
      "text/plain": "'i watch a plane fly past and shortly realize it was too low it crashes not half a block away rather as though it fell from a height of a few yards than flying straight into the ground and i think there might be survivors and that i should call the police before i get the number dialed i realize i want the fire department instead i get no ring try again and find the line is dead some people   at least one a woman are coming toward the house and i understand they are responsible for the dead phone and i should be suspicious of them i try to leave the house  run into a pregnant girl at the back; she seems to be in some sort of a bad way and has maybe started labor the woman from the plane comes this way calls the others to come get the pregnant girl and i pretend to be asleep or dead they dont buy it i guess and we all go inside â\\xa0â\\xa0â\\xa0â\\xa0â\\xa0â\\xa0 im not a prisoner i dont think so much as being detained for some reason and i go to my brothers old room he moved out of it a couple of years ago but there is furniture still there and i havent looked around in a long time this does not seem to be the family home  i felt like it was rented there are a couple of chests of drawers that i realize i could have used downstairs long ago yet ive been looking for acceptable furniture all this time also there are blankets as well as clothes and shoes  womens shoes  but they arent important a lot of blankets and i badly needed those last winter but didnt realize they were here also a very nice shoe rack the woman comes back to say or do something i dont know what and the dream ended about there i think'"
     },
     "metadata": {},
     "execution_count": 39
    }
   ],
   "source": [
    "dreams_groups_emotions.iloc[2,2]"
   ]
  },
  {
   "cell_type": "code",
   "execution_count": 40,
   "metadata": {},
   "outputs": [],
   "source": [
    "for emo in all_emotions:\n",
    "    exec(\"dreams_groups_emotions['{}_pct'] = dreams_groups_emotions['{}'] / dreams_groups_emotions['words']\".format(emo,emo))"
   ]
  },
  {
   "cell_type": "code",
   "execution_count": 41,
   "metadata": {},
   "outputs": [],
   "source": [
    "sentiment_pct=dreams_groups_emotions.columns[-3:]\n",
    "emotions_pct=dreams_groups_emotions.columns[-11:-4]"
   ]
  },
  {
   "cell_type": "code",
   "execution_count": 42,
   "metadata": {},
   "outputs": [
    {
     "output_type": "execute_result",
     "data": {
      "text/plain": "Index(['Positive_pct', 'Negative_pct', 'Neutral_pct'], dtype='object')"
     },
     "metadata": {},
     "execution_count": 42
    }
   ],
   "source": [
    "sentiment_pct"
   ]
  },
  {
   "cell_type": "code",
   "execution_count": 43,
   "metadata": {},
   "outputs": [
    {
     "output_type": "execute_result",
     "data": {
      "text/plain": "Index(['Joy_pct', 'Trust_pct', 'Anticipation_pct', 'Anger_pct', 'Fear_pct',\n       'Disgust_pct', 'Sadness_pct'],\n      dtype='object')"
     },
     "metadata": {},
     "execution_count": 43
    }
   ],
   "source": [
    "emotions_pct"
   ]
  },
  {
   "cell_type": "code",
   "execution_count": 44,
   "metadata": {},
   "outputs": [
    {
     "output_type": "execute_result",
     "data": {
      "text/plain": "   Dominant_Emotion_pct  Dominant_Sentiment_pct\n0              0.051948                0.181818\n1              0.060484                0.201613\n2              0.062706                0.178218",
      "text/html": "<div>\n<style scoped>\n    .dataframe tbody tr th:only-of-type {\n        vertical-align: middle;\n    }\n\n    .dataframe tbody tr th {\n        vertical-align: top;\n    }\n\n    .dataframe thead th {\n        text-align: right;\n    }\n</style>\n<table border=\"1\" class=\"dataframe\">\n  <thead>\n    <tr style=\"text-align: right;\">\n      <th></th>\n      <th>Dominant_Emotion_pct</th>\n      <th>Dominant_Sentiment_pct</th>\n    </tr>\n  </thead>\n  <tbody>\n    <tr>\n      <th>0</th>\n      <td>0.051948</td>\n      <td>0.181818</td>\n    </tr>\n    <tr>\n      <th>1</th>\n      <td>0.060484</td>\n      <td>0.201613</td>\n    </tr>\n    <tr>\n      <th>2</th>\n      <td>0.062706</td>\n      <td>0.178218</td>\n    </tr>\n  </tbody>\n</table>\n</div>"
     },
     "metadata": {},
     "execution_count": 44
    }
   ],
   "source": [
    "dreams_groups_emotions[\"Dominant_Emotion_pct\"] = dreams_groups_emotions[emotions_pct].max(axis=1)\n",
    "dreams_groups_emotions[\"Dominant_Sentiment_pct\"] = dreams_groups_emotions[sentiment_pct].max(axis=1)\n",
    "dreams_groups_emotions.iloc[:,[-2,-1]].head(3)"
   ]
  },
  {
   "cell_type": "code",
   "execution_count": 45,
   "metadata": {},
   "outputs": [],
   "source": [
    "dreams_groups_emotions['Dominant_Emotion'] = dreams_groups_emotions.apply(emotions_f, axis=1)\n",
    "dreams_groups_emotions['Dominant_Sentment'] = dreams_groups_emotions.apply(sentiment_f, axis=1)"
   ]
  },
  {
   "cell_type": "code",
   "execution_count": 46,
   "metadata": {},
   "outputs": [
    {
     "output_type": "execute_result",
     "data": {
      "text/plain": "  code     note                                        description  words  \\\n0    1     1957  the one at the meadss house where its bigger i...  154.0   \n1    2  8/11/67  im at a family reunion in a large fine house w...  248.0   \n2    3   8/1/85  i watch a plane fly past and shortly realize i...  303.0   \n\n   group_id  Positive  Negative  Anger  Anticipation  Disgust  ...  \\\n0         1        16        28      8             6        8  ...   \n1         1        30        50     12            10       11  ...   \n2         1        39        54     12            16       11  ...   \n\n   Disgust_pct  Sadness_pct  Surprise_pct  Positive_pct  Negative_pct  \\\n0     0.051948     0.038961      0.019481      0.103896      0.181818   \n1     0.044355     0.052419      0.004032      0.120968      0.201613   \n2     0.036304     0.049505      0.026403      0.128713      0.178218   \n\n   Neutral_pct  Dominant_Emotion_pct  Dominant_Sentiment_pct  \\\n0     0.019481              0.051948                0.181818   \n1     0.004032              0.060484                0.201613   \n2     0.026403              0.062706                0.178218   \n\n   Dominant_Emotion  Dominant_Sentment  \n0             Anger           Negative  \n1             Trust           Negative  \n2             Trust           Negative  \n\n[3 rows x 31 columns]",
      "text/html": "<div>\n<style scoped>\n    .dataframe tbody tr th:only-of-type {\n        vertical-align: middle;\n    }\n\n    .dataframe tbody tr th {\n        vertical-align: top;\n    }\n\n    .dataframe thead th {\n        text-align: right;\n    }\n</style>\n<table border=\"1\" class=\"dataframe\">\n  <thead>\n    <tr style=\"text-align: right;\">\n      <th></th>\n      <th>code</th>\n      <th>note</th>\n      <th>description</th>\n      <th>words</th>\n      <th>group_id</th>\n      <th>Positive</th>\n      <th>Negative</th>\n      <th>Anger</th>\n      <th>Anticipation</th>\n      <th>Disgust</th>\n      <th>...</th>\n      <th>Disgust_pct</th>\n      <th>Sadness_pct</th>\n      <th>Surprise_pct</th>\n      <th>Positive_pct</th>\n      <th>Negative_pct</th>\n      <th>Neutral_pct</th>\n      <th>Dominant_Emotion_pct</th>\n      <th>Dominant_Sentiment_pct</th>\n      <th>Dominant_Emotion</th>\n      <th>Dominant_Sentment</th>\n    </tr>\n  </thead>\n  <tbody>\n    <tr>\n      <th>0</th>\n      <td>1</td>\n      <td>1957</td>\n      <td>the one at the meadss house where its bigger i...</td>\n      <td>154.0</td>\n      <td>1</td>\n      <td>16</td>\n      <td>28</td>\n      <td>8</td>\n      <td>6</td>\n      <td>8</td>\n      <td>...</td>\n      <td>0.051948</td>\n      <td>0.038961</td>\n      <td>0.019481</td>\n      <td>0.103896</td>\n      <td>0.181818</td>\n      <td>0.019481</td>\n      <td>0.051948</td>\n      <td>0.181818</td>\n      <td>Anger</td>\n      <td>Negative</td>\n    </tr>\n    <tr>\n      <th>1</th>\n      <td>2</td>\n      <td>8/11/67</td>\n      <td>im at a family reunion in a large fine house w...</td>\n      <td>248.0</td>\n      <td>1</td>\n      <td>30</td>\n      <td>50</td>\n      <td>12</td>\n      <td>10</td>\n      <td>11</td>\n      <td>...</td>\n      <td>0.044355</td>\n      <td>0.052419</td>\n      <td>0.004032</td>\n      <td>0.120968</td>\n      <td>0.201613</td>\n      <td>0.004032</td>\n      <td>0.060484</td>\n      <td>0.201613</td>\n      <td>Trust</td>\n      <td>Negative</td>\n    </tr>\n    <tr>\n      <th>2</th>\n      <td>3</td>\n      <td>8/1/85</td>\n      <td>i watch a plane fly past and shortly realize i...</td>\n      <td>303.0</td>\n      <td>1</td>\n      <td>39</td>\n      <td>54</td>\n      <td>12</td>\n      <td>16</td>\n      <td>11</td>\n      <td>...</td>\n      <td>0.036304</td>\n      <td>0.049505</td>\n      <td>0.026403</td>\n      <td>0.128713</td>\n      <td>0.178218</td>\n      <td>0.026403</td>\n      <td>0.062706</td>\n      <td>0.178218</td>\n      <td>Trust</td>\n      <td>Negative</td>\n    </tr>\n  </tbody>\n</table>\n<p>3 rows × 31 columns</p>\n</div>"
     },
     "metadata": {},
     "execution_count": 46
    }
   ],
   "source": [
    "dreams_groups_emotions.head(3)"
   ]
  },
  {
   "cell_type": "code",
   "execution_count": 47,
   "metadata": {},
   "outputs": [
    {
     "output_type": "stream",
     "name": "stdout",
     "text": "<class 'pandas.core.frame.DataFrame'>\nInt64Index: 43132 entries, 0 to 43225\nData columns (total 31 columns):\n #   Column                  Non-Null Count  Dtype  \n---  ------                  --------------  -----  \n 0   code                    43132 non-null  object \n 1   note                    40997 non-null  object \n 2   description             43132 non-null  object \n 3   words                   43132 non-null  float64\n 4   group_id                43132 non-null  int64  \n 5   Positive                43132 non-null  int64  \n 6   Negative                43132 non-null  int64  \n 7   Anger                   43132 non-null  int64  \n 8   Anticipation            43132 non-null  int64  \n 9   Disgust                 43132 non-null  int64  \n 10  Fear                    43132 non-null  int64  \n 11  Joy                     43132 non-null  int64  \n 12  Sadness                 43132 non-null  int64  \n 13  Surprise                43132 non-null  int64  \n 14  Trust                   43132 non-null  int64  \n 15  Neutral                 43132 non-null  int64  \n 16  Joy_pct                 43132 non-null  float64\n 17  Trust_pct               43132 non-null  float64\n 18  Anticipation_pct        43132 non-null  float64\n 19  Anger_pct               43132 non-null  float64\n 20  Fear_pct                43132 non-null  float64\n 21  Disgust_pct             43132 non-null  float64\n 22  Sadness_pct             43132 non-null  float64\n 23  Surprise_pct            43132 non-null  float64\n 24  Positive_pct            43132 non-null  float64\n 25  Negative_pct            43132 non-null  float64\n 26  Neutral_pct             43132 non-null  float64\n 27  Dominant_Emotion_pct    43132 non-null  float64\n 28  Dominant_Sentiment_pct  43132 non-null  float64\n 29  Dominant_Emotion        43132 non-null  object \n 30  Dominant_Sentment       43132 non-null  object \ndtypes: float64(14), int64(12), object(5)\nmemory usage: 11.8+ MB\n"
    }
   ],
   "source": [
    "dreams_groups_emotions.info()"
   ]
  },
  {
   "cell_type": "code",
   "execution_count": 48,
   "metadata": {},
   "outputs": [],
   "source": [
    "dreams_groups_emotions.to_csv(f'{data_directory}/sa/out/dreams_groups_emotions.csv', index = False)"
   ]
  },
  {
   "cell_type": "code",
   "execution_count": null,
   "metadata": {},
   "outputs": [],
   "source": []
  }
 ],
 "metadata": {
  "kernelspec": {
   "display_name": "Python 3",
   "language": "python",
   "name": "python3"
  },
  "language_info": {
   "codemirror_mode": {
    "name": "ipython",
    "version": 3
   },
   "file_extension": ".py",
   "mimetype": "text/x-python",
   "name": "python",
   "nbconvert_exporter": "python",
   "pygments_lexer": "ipython3",
   "version": "3.7.5-final"
  }
 },
 "nbformat": 4,
 "nbformat_minor": 2
}