{
 "cells": [
  {
   "cell_type": "markdown",
   "metadata": {},
   "source": [
    "# Sentiment Analysis"
   ]
  },
  {
   "cell_type": "code",
   "execution_count": 6,
   "metadata": {},
   "outputs": [],
   "source": [
    "import pandas as pd\n",
    "import pymongo\n",
    "\n",
    "from pymongo import MongoClient\n",
    "\n",
    "import warnings, sys, os\n",
    "from pathlib import Path\n",
    "\n",
    "\n",
    "path = Path(os.getcwd())\n",
    "sys.path.append(str(path.parent))\n",
    "warnings.filterwarnings('ignore')  \n",
    "%matplotlib inline\n",
    "data_directory = '../data'"
   ]
  },
  {
   "cell_type": "code",
   "execution_count": 12,
   "metadata": {},
   "outputs": [],
   "source": [
    "client = MongoClient('localhost', 27017)\n",
    "db = client.precios_caba\n",
    "precios = db.precios\n",
    "precios = pd.DataFrame(list(precios.find()))\n",
    "productos = db.productos\n",
    "productos = pd.DataFrame(list(productos.find()))\n",
    "sucursales = db.sucursales\n",
    "sucursales = pd.DataFrame(list(sucursales.find()))\n"
   ]
  },
  {
   "cell_type": "code",
   "execution_count": 13,
   "metadata": {},
   "outputs": [
    {
     "output_type": "execute_result",
     "data": {
      "text/plain": "                          _id  sucursalTipo  \\\n0    5cbc698b7af152186c0cd142  Autoservicio   \n1    5cbc698b7af152186c0cd147  Autoservicio   \n2    5cbc698b7af152186c0cd145  Autoservicio   \n3    5cbc698b7af152186c0cd140  Autoservicio   \n4    5cbc698b7af152186c0cd149  Autoservicio   \n..                        ...           ...   \n832  5cbc698b7af152186c0cd483  Autoservicio   \n833  5cbc698b7af152186c0cd47e  Supermercado   \n834  5cbc698b7af152186c0cd480  Autoservicio   \n835  5cbc698b7af152186c0cd47f  Autoservicio   \n836  5cbc698b7af152186c0cd481  Autoservicio   \n\n                              direccion provincia  banderaId  \\\n0                  Av. General Paz 3802      AR-C          1   \n1               Av Libertador 6144 6144      AR-C          1   \n2                 Av Ruis Huidobro 3942      AR-C          1   \n3    San Juan Bautista De La Salle 4356      AR-C          1   \n4                       Av Cabildo 4316      AR-C          1   \n..                                  ...       ...        ...   \n832                       Av. Cruz 1501      AR-C          1   \n833               Av Montes De Oca 1597      AR-C          1   \n834                        Iriarte 2262      AR-C          1   \n835                     California 1995      AR-C          1   \n836                       Olavarría 469      AR-C          3   \n\n                           localidad      banderaDescripcion        lat  \\\n0                    CAPITAL FEDERAL  DEHEZA S.A.I.C.F. e I. -34.559976   \n1                    Capital Federal       Supermercados DIA -34.553080   \n2                    Capital Federal       Supermercados DIA -34.551273   \n3                    CAPITAL FEDERAL  DEHEZA S.A.I.C.F. e I. -34.559454   \n4                    Capital Federal       Supermercados DIA -34.544364   \n..                               ...                     ...        ...   \n832  Ciudad Autonoma de Buenos Aires            Axion Energy -34.651000   \n833                         Barracas   JOSIMAR SUPERMERCADOS -34.645600   \n834                  Capital Federal       Supermercados DIA -34.649405   \n835                  Capital Federal       Supermercados DIA -34.647444   \n836  Ciudad Autónoma de Buenos Aires                 Express -34.636459   \n\n                   comercioRazonSocial        lng    sucursalNombre  \\\n0               Deheza S.A.I.C.F. e I. -58.504540    GRAL PAZ - SUR   \n1                    DIA Argentina S.A -58.488970    430 - Belgrano   \n2                    DIA Argentina S.A -58.487177    498 - Saavedra   \n3               Deheza S.A.I.C.F. e I. -58.505028  GRAL PAZ - NORTE   \n4                    DIA Argentina S.A -58.471821    542 - Saavedra   \n..                                 ...        ...               ...   \n832  Pan American Energy LLC Argentina -58.372300         Centenera   \n833                       Josimar S.A. -58.373582           JOSIMAR   \n834                  DIA Argentina S.A -58.379123    357 - Barracas   \n835                  DIA Argentina S.A -58.376322    520 - Barracas   \n836                           INC S.A. -58.359430     Olavarría 469   \n\n     comercioId sucursalId         id  \n0             3       1507   3-1-1507  \n1            15        430   15-1-430  \n2            15        498   15-1-498  \n3             3       1506   3-1-1506  \n4            15        542   15-1-542  \n..          ...        ...        ...  \n832          23       6233  23-1-6233  \n833          29          5     29-1-5  \n834          15        357   15-1-357  \n835          15        520   15-1-520  \n836          10        419   10-3-419  \n\n[837 rows x 14 columns]",
      "text/html": "<div>\n<style scoped>\n    .dataframe tbody tr th:only-of-type {\n        vertical-align: middle;\n    }\n\n    .dataframe tbody tr th {\n        vertical-align: top;\n    }\n\n    .dataframe thead th {\n        text-align: right;\n    }\n</style>\n<table border=\"1\" class=\"dataframe\">\n  <thead>\n    <tr style=\"text-align: right;\">\n      <th></th>\n      <th>_id</th>\n      <th>sucursalTipo</th>\n      <th>direccion</th>\n      <th>provincia</th>\n      <th>banderaId</th>\n      <th>localidad</th>\n      <th>banderaDescripcion</th>\n      <th>lat</th>\n      <th>comercioRazonSocial</th>\n      <th>lng</th>\n      <th>sucursalNombre</th>\n      <th>comercioId</th>\n      <th>sucursalId</th>\n      <th>id</th>\n    </tr>\n  </thead>\n  <tbody>\n    <tr>\n      <th>0</th>\n      <td>5cbc698b7af152186c0cd142</td>\n      <td>Autoservicio</td>\n      <td>Av. General Paz 3802</td>\n      <td>AR-C</td>\n      <td>1</td>\n      <td>CAPITAL FEDERAL</td>\n      <td>DEHEZA S.A.I.C.F. e I.</td>\n      <td>-34.559976</td>\n      <td>Deheza S.A.I.C.F. e I.</td>\n      <td>-58.504540</td>\n      <td>GRAL PAZ - SUR</td>\n      <td>3</td>\n      <td>1507</td>\n      <td>3-1-1507</td>\n    </tr>\n    <tr>\n      <th>1</th>\n      <td>5cbc698b7af152186c0cd147</td>\n      <td>Autoservicio</td>\n      <td>Av Libertador 6144 6144</td>\n      <td>AR-C</td>\n      <td>1</td>\n      <td>Capital Federal</td>\n      <td>Supermercados DIA</td>\n      <td>-34.553080</td>\n      <td>DIA Argentina S.A</td>\n      <td>-58.488970</td>\n      <td>430 - Belgrano</td>\n      <td>15</td>\n      <td>430</td>\n      <td>15-1-430</td>\n    </tr>\n    <tr>\n      <th>2</th>\n      <td>5cbc698b7af152186c0cd145</td>\n      <td>Autoservicio</td>\n      <td>Av Ruis Huidobro 3942</td>\n      <td>AR-C</td>\n      <td>1</td>\n      <td>Capital Federal</td>\n      <td>Supermercados DIA</td>\n      <td>-34.551273</td>\n      <td>DIA Argentina S.A</td>\n      <td>-58.487177</td>\n      <td>498 - Saavedra</td>\n      <td>15</td>\n      <td>498</td>\n      <td>15-1-498</td>\n    </tr>\n    <tr>\n      <th>3</th>\n      <td>5cbc698b7af152186c0cd140</td>\n      <td>Autoservicio</td>\n      <td>San Juan Bautista De La Salle 4356</td>\n      <td>AR-C</td>\n      <td>1</td>\n      <td>CAPITAL FEDERAL</td>\n      <td>DEHEZA S.A.I.C.F. e I.</td>\n      <td>-34.559454</td>\n      <td>Deheza S.A.I.C.F. e I.</td>\n      <td>-58.505028</td>\n      <td>GRAL PAZ - NORTE</td>\n      <td>3</td>\n      <td>1506</td>\n      <td>3-1-1506</td>\n    </tr>\n    <tr>\n      <th>4</th>\n      <td>5cbc698b7af152186c0cd149</td>\n      <td>Autoservicio</td>\n      <td>Av Cabildo 4316</td>\n      <td>AR-C</td>\n      <td>1</td>\n      <td>Capital Federal</td>\n      <td>Supermercados DIA</td>\n      <td>-34.544364</td>\n      <td>DIA Argentina S.A</td>\n      <td>-58.471821</td>\n      <td>542 - Saavedra</td>\n      <td>15</td>\n      <td>542</td>\n      <td>15-1-542</td>\n    </tr>\n    <tr>\n      <th>...</th>\n      <td>...</td>\n      <td>...</td>\n      <td>...</td>\n      <td>...</td>\n      <td>...</td>\n      <td>...</td>\n      <td>...</td>\n      <td>...</td>\n      <td>...</td>\n      <td>...</td>\n      <td>...</td>\n      <td>...</td>\n      <td>...</td>\n      <td>...</td>\n    </tr>\n    <tr>\n      <th>832</th>\n      <td>5cbc698b7af152186c0cd483</td>\n      <td>Autoservicio</td>\n      <td>Av. Cruz 1501</td>\n      <td>AR-C</td>\n      <td>1</td>\n      <td>Ciudad Autonoma de Buenos Aires</td>\n      <td>Axion Energy</td>\n      <td>-34.651000</td>\n      <td>Pan American Energy LLC Argentina</td>\n      <td>-58.372300</td>\n      <td>Centenera</td>\n      <td>23</td>\n      <td>6233</td>\n      <td>23-1-6233</td>\n    </tr>\n    <tr>\n      <th>833</th>\n      <td>5cbc698b7af152186c0cd47e</td>\n      <td>Supermercado</td>\n      <td>Av Montes De Oca 1597</td>\n      <td>AR-C</td>\n      <td>1</td>\n      <td>Barracas</td>\n      <td>JOSIMAR SUPERMERCADOS</td>\n      <td>-34.645600</td>\n      <td>Josimar S.A.</td>\n      <td>-58.373582</td>\n      <td>JOSIMAR</td>\n      <td>29</td>\n      <td>5</td>\n      <td>29-1-5</td>\n    </tr>\n    <tr>\n      <th>834</th>\n      <td>5cbc698b7af152186c0cd480</td>\n      <td>Autoservicio</td>\n      <td>Iriarte 2262</td>\n      <td>AR-C</td>\n      <td>1</td>\n      <td>Capital Federal</td>\n      <td>Supermercados DIA</td>\n      <td>-34.649405</td>\n      <td>DIA Argentina S.A</td>\n      <td>-58.379123</td>\n      <td>357 - Barracas</td>\n      <td>15</td>\n      <td>357</td>\n      <td>15-1-357</td>\n    </tr>\n    <tr>\n      <th>835</th>\n      <td>5cbc698b7af152186c0cd47f</td>\n      <td>Autoservicio</td>\n      <td>California 1995</td>\n      <td>AR-C</td>\n      <td>1</td>\n      <td>Capital Federal</td>\n      <td>Supermercados DIA</td>\n      <td>-34.647444</td>\n      <td>DIA Argentina S.A</td>\n      <td>-58.376322</td>\n      <td>520 - Barracas</td>\n      <td>15</td>\n      <td>520</td>\n      <td>15-1-520</td>\n    </tr>\n    <tr>\n      <th>836</th>\n      <td>5cbc698b7af152186c0cd481</td>\n      <td>Autoservicio</td>\n      <td>Olavarría 469</td>\n      <td>AR-C</td>\n      <td>3</td>\n      <td>Ciudad Autónoma de Buenos Aires</td>\n      <td>Express</td>\n      <td>-34.636459</td>\n      <td>INC S.A.</td>\n      <td>-58.359430</td>\n      <td>Olavarría 469</td>\n      <td>10</td>\n      <td>419</td>\n      <td>10-3-419</td>\n    </tr>\n  </tbody>\n</table>\n<p>837 rows × 14 columns</p>\n</div>"
     },
     "metadata": {},
     "execution_count": 13
    }
   ],
   "source": [
    "sucursales"
   ]
  }
 ],
 "metadata": {
  "kernelspec": {
   "display_name": "Python 3",
   "language": "python",
   "name": "python3"
  },
  "language_info": {
   "codemirror_mode": {
    "name": "ipython",
    "version": 3
   },
   "file_extension": ".py",
   "mimetype": "text/x-python",
   "name": "python",
   "nbconvert_exporter": "python",
   "pygments_lexer": "ipython3",
   "version": "3.7.5-final"
  }
 },
 "nbformat": 4,
 "nbformat_minor": 2
}